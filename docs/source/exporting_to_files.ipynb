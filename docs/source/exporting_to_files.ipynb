{
 "cells": [
  {
   "cell_type": "markdown",
   "metadata": {},
   "source": [
    "# Exporting BioCantor data models\n",
    "\n",
    "BioCantor data models can be exported to any of:\n",
    "\n",
    "1. GenBank\n",
    "2. GFF3\n",
    "3. JSON\n",
    "4. BED (TranscriptInterval and FeatureInterval only).\n",
    "\n",
    "The JSON representation can be read directly by the `marshmallow` data structures that build the data model."
   ]
  },
  {
   "cell_type": "code",
   "execution_count": 11,
   "metadata": {},
   "outputs": [],
   "source": [
    "from inscripta.biocantor.io.gff3.parser import parse_standard_gff3, AnnotationCollectionModel\n",
    "\n",
    "gff3 = \"tests/data/INSC1006_chrI.gff3\"\n",
    "\n",
    "model = list(parse_standard_gff3(gff3))[0]\n",
    "parsed = model.to_annotation_collection()"
   ]
  },
  {
   "cell_type": "markdown",
   "metadata": {},
   "source": [
    "## GFF3\n",
    "\n",
    "Each of the five interval objects in BioCantor is capable of directly printing to GFF3. If this function is called on a parent object, each child is also recursively called."
   ]
  },
  {
   "cell_type": "code",
   "execution_count": 7,
   "metadata": {},
   "outputs": [
    {
     "name": "stdout",
     "output_type": "stream",
     "text": [
      "CM021111.1\tBioCantor\tgene\t16175\t18079\t.\t+\t.\tID=95dcc29c-0b5c-db9a-a1dc-83e2b81a7ccc;gene_biotype=ncRNA;gene_id=8ad3f444-384e-35e0-e560-aef88bd2863f;locus_tag=GI526_G0000001\n",
      "CM021111.1\tBioCantor\ttranscript\t16175\t18079\t.\t-\t.\tID=90ee4e5b-64de-11fb-5d87-7a98577463bb;Parent=95dcc29c-0b5c-db9a-a1dc-83e2b81a7ccc;Name=GI526_G0000001;gene_biotype=ncRNA;gene_id=8ad3f444-384e-35e0-e560-aef88bd2863f;locus_tag=GI526_G0000001;ncrna_class=other;note=CAT%20transcript%20id:%20T0000001%3B%20CAT%20alignment%20id:%20IsoSeq-PB.2586.1%3B%20CAT%20novel%20prediction:%20IsoSeq;transcript_biotype=ncRNA;transcript_id=GI526_G0000001;transcript_name=GI526_G0000001\n",
      "CM021111.1\tBioCantor\texon\t16175\t18079\t.\t-\t.\tID=exon-90ee4e5b-64de-11fb-5d87-7a98577463bb-1;Parent=90ee4e5b-64de-11fb-5d87-7a98577463bb;Name=GI526_G0000001;gene_biotype=ncRNA;gene_id=8ad3f444-384e-35e0-e560-aef88bd2863f;locus_tag=GI526_G0000001;ncrna_class=other;note=CAT%20transcript%20id:%20T0000001%3B%20CAT%20alignment%20id:%20IsoSeq-PB.2586.1%3B%20CAT%20novel%20prediction:%20IsoSeq;transcript_biotype=ncRNA;transcript_id=GI526_G0000001;transcript_name=GI526_G0000001\n",
      "CM021111.1\tBioCantor\tgene\t37462\t39103\t.\t+\t.\tID=171872e6-a062-50f3-c18a-239a37b8d865;Name=GDH3;gene=GDH3;gene_biotype=protein_coding;gene_id=a1b669f1-57f6-ae9b-8f4f-a27a6e84d15a;gene_name=GDH3;locus_tag=GI526_G0000002\n",
      "CM021111.1\tBioCantor\ttranscript\t37462\t39103\t.\t+\t.\tID=e412edc4-ce6a-2879-80b4-0382186de445;Parent=171872e6-a062-50f3-c18a-239a37b8d865;Name=GDH3;codon_start=1;gene=GDH3;gene_biotype=protein_coding;gene_id=a1b669f1-57f6-ae9b-8f4f-a27a6e84d15a;gene_name=GDH3;locus_tag=GI526_G0000002;note=CAT%20transcript%20id:%20T0000002%3B%20CAT%20alignment%20id:%20NM_001178204.1-0%3B%20CAT%20source%20transcript%20id:%20NM_001178204.1%3B%20CAT%20source%20transcript%20biotype:%20protein_coding;protein_id=KAF1903245.1;transcript_biotype=protein_coding;transcript_id=GI526_G0000002;transcript_name=GDH3;translation=MTSEPEFQQAYDEIVSSVEDSKIFEKFPQYKKVLPIVSVPERIIQFRVTWENDNGEQEVAQGYRVQFNSAKGPYKGGLRFHPSVNLSILKFLGFEQIFKNALTGLDMGGGKGGLCVDLKGKSDNEIRRICYAFMRELSRHIGKDTDVPAGDIGVGGREIGYLFGAYRSYKNSWEGVLTGKGLNWGGSLIRPEATGFGLVYYTQAMIDYATNGKESFEGKRVTISGSGNVAQYAALKVIELGGIVVSLSDSKGCIISETGITSEQIHDIASAKIRFKSLEEIVDEYSTFSESKMKYVAGARPWTHVSNVDIALPCATQNEVSGDEAKALVASGVKFVAEGANMGSTPEAISVFETARSTATNAKDAVWFGPPKAANLGGVAVSGLEMAQNSQKVTWTAERVDQELKKIMINCFNDCIQAAQEYSTEKNTNTLPSLVKGANIASFVMVADAMLDQGDVF\n",
      "CM021111.1\tBioCantor\texon\t37462\t39103\t.\t+\t.\tID=exon-e412edc4-ce6a-2879-80b4-0382186de445-1;Parent=e412edc4-ce6a-2879-80b4-0382186de445;Name=GDH3;codon_start=1;gene=GDH3;gene_biotype=protein_coding;gene_id=a1b669f1-57f6-ae9b-8f4f-a27a6e84d15a;gene_name=GDH3;locus_tag=GI526_G0000002;note=CAT%20transcript%20id:%20T0000002%3B%20CAT%20alignment%20id:%20NM_001178204.1-0%3B%20CAT%20source%20transcript%20id:%20NM_001178204.1%3B%20CAT%20source%20transcript%20biotype:%20protein_coding;protein_id=KAF1903245.1;transcript_biotype=protein_coding;transcript_id=GI526_G0000002;transcript_name=GDH3;translation=MTSEPEFQQAYDEIVSSVEDSKIFEKFPQYKKVLPIVSVPERIIQFRVTWENDNGEQEVAQGYRVQFNSAKGPYKGGLRFHPSVNLSILKFLGFEQIFKNALTGLDMGGGKGGLCVDLKGKSDNEIRRICYAFMRELSRHIGKDTDVPAGDIGVGGREIGYLFGAYRSYKNSWEGVLTGKGLNWGGSLIRPEATGFGLVYYTQAMIDYATNGKESFEGKRVTISGSGNVAQYAALKVIELGGIVVSLSDSKGCIISETGITSEQIHDIASAKIRFKSLEEIVDEYSTFSESKMKYVAGARPWTHVSNVDIALPCATQNEVSGDEAKALVASGVKFVAEGANMGSTPEAISVFETARSTATNAKDAVWFGPPKAANLGGVAVSGLEMAQNSQKVTWTAERVDQELKKIMINCFNDCIQAAQEYSTEKNTNTLPSLVKGANIASFVMVADAMLDQGDVF\n",
      "CM021111.1\tBioCantor\tCDS\t37638\t39011\t.\t+\t0\tID=8c412dbe-9c30-69d5-b15d-9c973b274d1c-1;Parent=e412edc4-ce6a-2879-80b4-0382186de445;Name=KAF1903245.1;codon_start=1;gene=GDH3;gene_biotype=protein_coding;gene_id=a1b669f1-57f6-ae9b-8f4f-a27a6e84d15a;gene_name=GDH3;locus_tag=GI526_G0000002;note=CAT%20transcript%20id:%20T0000002%3B%20CAT%20alignment%20id:%20NM_001178204.1-0%3B%20CAT%20source%20transcript%20id:%20NM_001178204.1%3B%20CAT%20source%20transcript%20biotype:%20protein_coding;product=GDH3%20isoform%201;protein_id=KAF1903245.1;transcript_biotype=protein_coding;transcript_id=GI526_G0000002;transcript_name=GDH3;translation=MTSEPEFQQAYDEIVSSVEDSKIFEKFPQYKKVLPIVSVPERIIQFRVTWENDNGEQEVAQGYRVQFNSAKGPYKGGLRFHPSVNLSILKFLGFEQIFKNALTGLDMGGGKGGLCVDLKGKSDNEIRRICYAFMRELSRHIGKDTDVPAGDIGVGGREIGYLFGAYRSYKNSWEGVLTGKGLNWGGSLIRPEATGFGLVYYTQAMIDYATNGKESFEGKRVTISGSGNVAQYAALKVIELGGIVVSLSDSKGCIISETGITSEQIHDIASAKIRFKSLEEIVDEYSTFSESKMKYVAGARPWTHVSNVDIALPCATQNEVSGDEAKALVASGVKFVAEGANMGSTPEAISVFETARSTATNAKDAVWFGPPKAANLGGVAVSGLEMAQNSQKVTWTAERVDQELKKIMINCFNDCIQAAQEYSTEKNTNTLPSLVKGANIASFVMVADAMLDQGDVF\n",
      "CM021111.1\tBioCantor\tgene\t39519\t40772\t.\t+\t.\tID=bfd63ec7-0657-1623-bcf6-155e62c4fa6d;Name=BDH2;gene=BDH2;gene_biotype=protein_coding;gene_id=4967ade5-6d91-faeb-79ed-e57093e4e5f2;gene_name=BDH2;locus_tag=GI526_G0000003\n",
      "CM021111.1\tBioCantor\ttranscript\t39519\t40772\t.\t+\t.\tID=29b6f676-e957-4508-9855-e0f904f60925;Parent=bfd63ec7-0657-1623-bcf6-155e62c4fa6d;Name=BDH2;codon_start=1;gene=BDH2;gene_biotype=protein_coding;gene_id=4967ade5-6d91-faeb-79ed-e57093e4e5f2;gene_name=BDH2;locus_tag=GI526_G0000003;protein_id=KAF1903246.1;transcript_biotype=protein_coding;transcript_id=GI526_G0000003;transcript_name=BDH2;translation=MRALAYFGKGNIRFTNHLKEPHIVAPDELVIDIAWCGICGTDLHEYTDGPIFFPEDGHTHEISHNPLPQAMGHEMAGTVLEVGPSVKNLKVGDKVVVEPTGTCRDRYRWPLSPKVDKEWCAACKKGYYNICSYLGLCGAGVQSGGFAEGVVMNESHCYKVPDFVPLDVAALIQPLAVCWHAIRVCEFKAGSTALIIGAGPIGLGTILALNAAGCKDIVVSEPAKVRRELAEKMGARVYDPTAHAAKESIDYLRSIADGGDGFDYTFDCSGLEVTLNAAIQCLTFRGTAVNLAMWGHHKIQFSPMDITLHERKYTGSMCYTHHDFETVIEALEEGRIDIDRARHMITGRVNIEDGLDGAIMKLINEKESTIKIILTPNNHGELNREADNEKKEISELSSRKDQERLRESINEAKLRHT\n",
      "CM021111.1\tBioCantor\texon\t39519\t40772\t.\t+\t.\tID=exon-29b6f676-e957-4508-9855-e0f904f60925-1;Parent=29b6f676-e957-4508-9855-e0f904f60925;Name=BDH2;codon_start=1;gene=BDH2;gene_biotype=protein_coding;gene_id=4967ade5-6d91-faeb-79ed-e57093e4e5f2;gene_name=BDH2;locus_tag=GI526_G0000003;protein_id=KAF1903246.1;transcript_biotype=protein_coding;transcript_id=GI526_G0000003;transcript_name=BDH2;translation=MRALAYFGKGNIRFTNHLKEPHIVAPDELVIDIAWCGICGTDLHEYTDGPIFFPEDGHTHEISHNPLPQAMGHEMAGTVLEVGPSVKNLKVGDKVVVEPTGTCRDRYRWPLSPKVDKEWCAACKKGYYNICSYLGLCGAGVQSGGFAEGVVMNESHCYKVPDFVPLDVAALIQPLAVCWHAIRVCEFKAGSTALIIGAGPIGLGTILALNAAGCKDIVVSEPAKVRRELAEKMGARVYDPTAHAAKESIDYLRSIADGGDGFDYTFDCSGLEVTLNAAIQCLTFRGTAVNLAMWGHHKIQFSPMDITLHERKYTGSMCYTHHDFETVIEALEEGRIDIDRARHMITGRVNIEDGLDGAIMKLINEKESTIKIILTPNNHGELNREADNEKKEISELSSRKDQERLRESINEAKLRHT\n",
      "CM021111.1\tBioCantor\tCDS\t39519\t40772\t.\t+\t0\tID=8d8ecb72-2b49-c26e-0081-2ba0d403e13d-1;Parent=29b6f676-e957-4508-9855-e0f904f60925;Name=KAF1903246.1;codon_start=1;gene=BDH2;gene_biotype=protein_coding;gene_id=4967ade5-6d91-faeb-79ed-e57093e4e5f2;gene_name=BDH2;locus_tag=GI526_G0000003;product=BDH2%20isoform%201;protein_id=KAF1903246.1;transcript_biotype=protein_coding;transcript_id=GI526_G0000003;transcript_name=BDH2;translation=MRALAYFGKGNIRFTNHLKEPHIVAPDELVIDIAWCGICGTDLHEYTDGPIFFPEDGHTHEISHNPLPQAMGHEMAGTVLEVGPSVKNLKVGDKVVVEPTGTCRDRYRWPLSPKVDKEWCAACKKGYYNICSYLGLCGAGVQSGGFAEGVVMNESHCYKVPDFVPLDVAALIQPLAVCWHAIRVCEFKAGSTALIIGAGPIGLGTILALNAAGCKDIVVSEPAKVRRELAEKMGARVYDPTAHAAKESIDYLRSIADGGDGFDYTFDCSGLEVTLNAAIQCLTFRGTAVNLAMWGHHKIQFSPMDITLHERKYTGSMCYTHHDFETVIEALEEGRIDIDRARHMITGRVNIEDGLDGAIMKLINEKESTIKIILTPNNHGELNREADNEKKEISELSSRKDQERLRESINEAKLRHT\n",
      "CM021111.1\tBioCantor\tgene\t41086\t42503\t.\t+\t.\tID=a67558d9-29e1-1b91-3a33-f5d7a57a9567;Name=BDH1;gene=BDH1;gene_biotype=protein_coding;gene_id=278a932c-a0a7-e31b-3156-5860ca4a4021;gene_name=BDH1;locus_tag=GI526_G0000004\n",
      "CM021111.1\tBioCantor\ttranscript\t41086\t42503\t.\t+\t.\tID=64a7aecc-da53-7633-78b4-7fe59508aee1;Parent=a67558d9-29e1-1b91-3a33-f5d7a57a9567;Name=BDH1;gene=BDH1;gene_biotype=protein_coding;gene_id=278a932c-a0a7-e31b-3156-5860ca4a4021;gene_name=BDH1;locus_tag=GI526_G0000004;note=CAT%20transcript%20id:%20T0000004%3B%20CAT%20alignment%20id:%20NM_001178202.2-0%3B%20CAT%20source%20transcript%20id:%20NM_001178202.2%3B%20CAT%20source%20transcript%20biotype:%20protein_coding;transcript_biotype=protein_coding;transcript_id=GI526_G0000004;transcript_name=BDH1\n",
      "CM021111.1\tBioCantor\texon\t41086\t42503\t.\t+\t.\tID=exon-64a7aecc-da53-7633-78b4-7fe59508aee1-1;Parent=64a7aecc-da53-7633-78b4-7fe59508aee1;Name=BDH1;gene=BDH1;gene_biotype=protein_coding;gene_id=278a932c-a0a7-e31b-3156-5860ca4a4021;gene_name=BDH1;locus_tag=GI526_G0000004;note=CAT%20transcript%20id:%20T0000004%3B%20CAT%20alignment%20id:%20NM_001178202.2-0%3B%20CAT%20source%20transcript%20id:%20NM_001178202.2%3B%20CAT%20source%20transcript%20biotype:%20protein_coding;transcript_biotype=protein_coding;transcript_id=GI526_G0000004;transcript_name=BDH1\n",
      "CM021111.1\tBioCantor\tgene\t42580\t43218\t.\t+\t.\tID=6ada04b7-6dac-ee62-7083-bd4521f34c41;Name=ECM1;gene=ECM1;gene_biotype=ncRNA;gene_id=e8b37537-588b-43a2-eb26-c88883f06014;gene_name=ECM1;locus_tag=GI526_G0000005\n",
      "CM021111.1\tBioCantor\ttranscript\t42580\t43218\t.\t+\t.\tID=2bd1af5e-472d-09ae-78fc-77e26f7b5780;Parent=6ada04b7-6dac-ee62-7083-bd4521f34c41;Name=ECM1;gene=ECM1;gene_biotype=ncRNA;gene_id=e8b37537-588b-43a2-eb26-c88883f06014;gene_name=ECM1;locus_tag=GI526_G0000005;transcript_biotype=ncRNA;transcript_id=GI526_G0000005;transcript_name=ECM1\n",
      "CM021111.1\tBioCantor\texon\t42580\t43218\t.\t+\t.\tID=exon-2bd1af5e-472d-09ae-78fc-77e26f7b5780-1;Parent=2bd1af5e-472d-09ae-78fc-77e26f7b5780;Name=ECM1;gene=ECM1;gene_biotype=ncRNA;gene_id=e8b37537-588b-43a2-eb26-c88883f06014;gene_name=ECM1;locus_tag=GI526_G0000005;transcript_biotype=ncRNA;transcript_id=GI526_G0000005;transcript_name=ECM1\n"
     ]
    }
   ],
   "source": [
    "for gff_row in parsed.to_gff():\n",
    "    print(gff_row)"
   ]
  },
  {
   "cell_type": "markdown",
   "metadata": {},
   "source": [
    "### GFF3 with FASTA\n",
    "\n",
    "In addition to being able to print GFF directly, convenience functions exist to export GFF3 in one go, and optionally include sequence info."
   ]
  },
  {
   "cell_type": "code",
   "execution_count": 8,
   "metadata": {},
   "outputs": [
    {
     "ename": "GFF3ExportException",
     "evalue": "Cannot export FASTA in GFF3 if collection has no associated sequence",
     "output_type": "error",
     "traceback": [
      "\u001b[0;31m---------------------------------------------------------------------------\u001b[0m",
      "\u001b[0;31mGFF3ExportException\u001b[0m                       Traceback (most recent call last)",
      "\u001b[0;32m<ipython-input-8-6616014c2f77>\u001b[0m in \u001b[0;36m<module>\u001b[0;34m()\u001b[0m\n\u001b[1;32m      3\u001b[0m \u001b[0;34m\u001b[0m\u001b[0m\n\u001b[1;32m      4\u001b[0m \u001b[0;32mwith\u001b[0m \u001b[0mopen\u001b[0m\u001b[0;34m(\u001b[0m\u001b[0;34m\"/dev/null\"\u001b[0m\u001b[0;34m,\u001b[0m \u001b[0;34m\"w\"\u001b[0m\u001b[0;34m)\u001b[0m \u001b[0;32mas\u001b[0m \u001b[0mfh\u001b[0m\u001b[0;34m:\u001b[0m\u001b[0;34m\u001b[0m\u001b[0;34m\u001b[0m\u001b[0m\n\u001b[0;32m----> 5\u001b[0;31m     \u001b[0mcollection_to_gff3\u001b[0m\u001b[0;34m(\u001b[0m\u001b[0;34m[\u001b[0m\u001b[0mparsed\u001b[0m\u001b[0;34m]\u001b[0m\u001b[0;34m,\u001b[0m \u001b[0mfh\u001b[0m\u001b[0;34m,\u001b[0m \u001b[0madd_sequences\u001b[0m\u001b[0;34m=\u001b[0m\u001b[0;32mTrue\u001b[0m\u001b[0;34m)\u001b[0m\u001b[0;34m\u001b[0m\u001b[0;34m\u001b[0m\u001b[0m\n\u001b[0m",
      "\u001b[0;32m/Users/ian.fiddes/repos/biocantor/inscripta/biocantor/io/gff3/writer.py\u001b[0m in \u001b[0;36mcollection_to_gff3\u001b[0;34m(collections, gff3_handle, add_sequences, ordered, chromosome_relative_coordinates, raise_on_reserved_attributes)\u001b[0m\n\u001b[1;32m     60\u001b[0m         \u001b[0;32mfor\u001b[0m \u001b[0mcollection\u001b[0m \u001b[0;32min\u001b[0m \u001b[0mcollections\u001b[0m\u001b[0;34m:\u001b[0m\u001b[0;34m\u001b[0m\u001b[0;34m\u001b[0m\u001b[0m\n\u001b[1;32m     61\u001b[0m             \u001b[0;32mif\u001b[0m \u001b[0mcollection\u001b[0m\u001b[0;34m.\u001b[0m\u001b[0msequence\u001b[0m \u001b[0;32mis\u001b[0m \u001b[0;32mNone\u001b[0m\u001b[0;34m:\u001b[0m\u001b[0;34m\u001b[0m\u001b[0;34m\u001b[0m\u001b[0m\n\u001b[0;32m---> 62\u001b[0;31m                 \u001b[0;32mraise\u001b[0m \u001b[0mGFF3ExportException\u001b[0m\u001b[0;34m(\u001b[0m\u001b[0;34m\"Cannot export FASTA in GFF3 if collection has no associated sequence\"\u001b[0m\u001b[0;34m)\u001b[0m\u001b[0;34m\u001b[0m\u001b[0;34m\u001b[0m\u001b[0m\n\u001b[0m\u001b[1;32m     63\u001b[0m             print(\n\u001b[1;32m     64\u001b[0m                 GFF3Headers.SEQUENCE_HEADER.value.format(\n",
      "\u001b[0;31mGFF3ExportException\u001b[0m: Cannot export FASTA in GFF3 if collection has no associated sequence"
     ]
    }
   ],
   "source": [
    "# this does not work because it was parsed without sequence information\n",
    "from inscripta.biocantor.io.gff3.writer import collection_to_gff3\n",
    "\n",
    "with open(\"/dev/null\", \"w\") as fh:\n",
    "    collection_to_gff3([parsed], fh, add_sequences=True)"
   ]
  },
  {
   "cell_type": "code",
   "execution_count": 9,
   "metadata": {},
   "outputs": [],
   "source": [
    "# parse the GFF3 with sequence instead this time and write to disk\n",
    "from inscripta.biocantor.io.gff3.parser import parse_gff3_embedded_fasta\n",
    "\n",
    "with open(\"/dev/null\", \"w\") as fh:\n",
    "    parsed_with_sequence = [x.to_annotation_collection() for x in parse_gff3_embedded_fasta(gff3)]\n",
    "    collection_to_gff3(parsed_with_sequence, fh, add_sequences=True)"
   ]
  },
  {
   "cell_type": "markdown",
   "metadata": {},
   "source": [
    "## JSON\n",
    "\n",
    "Each object also has a `to_dict()` function, which produces a dict that the `marshmallow` library understands. As a result, the below two operations are identical."
   ]
  },
  {
   "cell_type": "code",
   "execution_count": 12,
   "metadata": {},
   "outputs": [
    {
     "data": {
      "text/plain": [
       "True"
      ]
     },
     "execution_count": 12,
     "metadata": {},
     "output_type": "execute_result"
    }
   ],
   "source": [
    "AnnotationCollectionModel.Schema().load(parsed.to_dict()).to_annotation_collection().to_dict() == parsed.to_dict()"
   ]
  },
  {
   "cell_type": "markdown",
   "metadata": {},
   "source": [
    "However, the below is not true, only because the marshmallow schemas are `Ordered`, and so produced `OrderedDict`:"
   ]
  },
  {
   "cell_type": "code",
   "execution_count": 14,
   "metadata": {},
   "outputs": [
    {
     "data": {
      "text/plain": [
       "False"
      ]
     },
     "execution_count": 14,
     "metadata": {},
     "output_type": "execute_result"
    }
   ],
   "source": [
    "parsed.to_dict() == AnnotationCollectionModel.Schema().dump(model)"
   ]
  },
  {
   "cell_type": "markdown",
   "metadata": {},
   "source": [
    "## BED\n",
    "\n",
    "BED export is only valid on `TranscriptInterval` and `FeatureInterval` objects, because BED format does not model relationships between rows. All models are exported in `BED12` format."
   ]
  },
  {
   "cell_type": "code",
   "execution_count": 15,
   "metadata": {},
   "outputs": [
    {
     "name": "stdout",
     "output_type": "stream",
     "text": [
      "CM021111.1\t16174\t18079\tGI526_G0000001\t0\t-\t0\t0\t0,0,0\t1\t1905\t0\n",
      "CM021111.1\t37461\t39103\tGDH3\t0\t+\t37637\t39011\t0,0,0\t1\t1642\t0\n",
      "CM021111.1\t39518\t40772\tBDH2\t0\t+\t39518\t40772\t0,0,0\t1\t1254\t0\n",
      "CM021111.1\t41085\t42503\tBDH1\t0\t+\t0\t0\t0,0,0\t1\t1418\t0\n",
      "CM021111.1\t42579\t43218\tECM1\t0\t+\t0\t0\t0,0,0\t1\t639\t0\n"
     ]
    }
   ],
   "source": [
    "for gene_or_feature_collection in parsed:\n",
    "    for transcript_or_feature in gene_or_feature_collection:\n",
    "        print(transcript_or_feature.to_bed12())\n"
   ]
  },
  {
   "cell_type": "markdown",
   "metadata": {},
   "source": [
    "## GenBank\n",
    "\n",
    "All models can be exported to GenBank. GenBank export must be specified to be in either *prokaryotic* or *eukaryotic* flavors. See the document on parsing GenBank files for an explanation of the difference.\n",
    "\n",
    "GenBank export is problematic for genomes that have multiple isoforms per gene due to the lack of the ability to explicitly define the hierarchical relationship. BioCantor GenBank is always locus sorted, which helps resolve this ambiguity.\n",
    "\n",
    "GenBank export also the ability to export GenBank files compatible with Inscripta Engineering Portal. This mode of export ensures that there is always a unique `/gene` tag on every feature, and that `CDS` features have a `/translation` tag.\n",
    "\n",
    "The `organism` and `source` fields can be set by keyword arguments.\n",
    "\n",
    "GenBank files can also be exported in two common GenBank file flavors, prokaryotic and eukaryotic.\n",
    "Eukaryotic GenBank files contain a `mRNA` feature as a child of a `gene` feature and parent of a `CDS` feature,\n",
    "while Prokaryotic GenBank files skip the `mRNA` feature and only have `gene` and `CDS`. The GenBank writing function\n",
    "defaults to the prokaryotic version, but this can be adjusted by passing `genbank_type=GenbankFlavor.EUKARYOTIC`."
   ]
  },
  {
   "cell_type": "code",
   "execution_count": 16,
   "metadata": {},
   "outputs": [
    {
     "ename": "GenBankExportError",
     "evalue": "Cannot export GenBank if collections do not have sequence information",
     "output_type": "error",
     "traceback": [
      "\u001b[0;31m---------------------------------------------------------------------------\u001b[0m",
      "\u001b[0;31mGenBankExportError\u001b[0m                        Traceback (most recent call last)",
      "\u001b[0;32m<ipython-input-16-5b5bfd3a0aaa>\u001b[0m in \u001b[0;36m<module>\u001b[0;34m()\u001b[0m\n\u001b[1;32m      2\u001b[0m \u001b[0;34m\u001b[0m\u001b[0m\n\u001b[1;32m      3\u001b[0m \u001b[0;32mwith\u001b[0m \u001b[0mopen\u001b[0m\u001b[0;34m(\u001b[0m\u001b[0;34m\"/dev/null\"\u001b[0m\u001b[0;34m,\u001b[0m \u001b[0;34m\"w\"\u001b[0m\u001b[0;34m)\u001b[0m \u001b[0;32mas\u001b[0m \u001b[0mfh\u001b[0m\u001b[0;34m:\u001b[0m\u001b[0;34m\u001b[0m\u001b[0;34m\u001b[0m\u001b[0m\n\u001b[0;32m----> 4\u001b[0;31m     \u001b[0mcollection_to_genbank\u001b[0m\u001b[0;34m(\u001b[0m\u001b[0;34m[\u001b[0m\u001b[0mparsed\u001b[0m\u001b[0;34m]\u001b[0m\u001b[0;34m,\u001b[0m \u001b[0mfh\u001b[0m\u001b[0;34m)\u001b[0m\u001b[0;34m\u001b[0m\u001b[0;34m\u001b[0m\u001b[0m\n\u001b[0m",
      "\u001b[0;32m/Users/ian.fiddes/repos/biocantor/inscripta/biocantor/io/genbank/writer.py\u001b[0m in \u001b[0;36mcollection_to_genbank\u001b[0;34m(collections, genbank_file_handle_or_path, genbank_type, force_strand, organism, source, seqrecord_annotations, update_translations)\u001b[0m\n\u001b[1;32m     83\u001b[0m \u001b[0;34m\u001b[0m\u001b[0m\n\u001b[1;32m     84\u001b[0m         \u001b[0;32mif\u001b[0m \u001b[0mcollection\u001b[0m\u001b[0;34m.\u001b[0m\u001b[0msequence\u001b[0m \u001b[0;32mis\u001b[0m \u001b[0;32mNone\u001b[0m\u001b[0;34m:\u001b[0m\u001b[0;34m\u001b[0m\u001b[0;34m\u001b[0m\u001b[0m\n\u001b[0;32m---> 85\u001b[0;31m             \u001b[0;32mraise\u001b[0m \u001b[0mGenBankExportError\u001b[0m\u001b[0;34m(\u001b[0m\u001b[0;34m\"Cannot export GenBank if collections do not have sequence information\"\u001b[0m\u001b[0;34m)\u001b[0m\u001b[0;34m\u001b[0m\u001b[0;34m\u001b[0m\u001b[0m\n\u001b[0m\u001b[1;32m     86\u001b[0m \u001b[0;34m\u001b[0m\u001b[0m\n\u001b[1;32m     87\u001b[0m         seqrecord = SeqRecord(\n",
      "\u001b[0;31mGenBankExportError\u001b[0m: Cannot export GenBank if collections do not have sequence information"
     ]
    }
   ],
   "source": [
    "from inscripta.biocantor.io.genbank.writer import collection_to_genbank\n",
    "\n",
    "with open(\"/dev/null\", \"w\") as fh:\n",
    "    collection_to_genbank([parsed], fh)"
   ]
  },
  {
   "cell_type": "code",
   "execution_count": 17,
   "metadata": {},
   "outputs": [
    {
     "name": "stdout",
     "output_type": "stream",
     "text": [
      "LOCUS       CM021111.1             50040 bp    DNA              UNK 01-JAN-1980\n",
      "DEFINITION  GenBank produced by BioCantor.\n",
      "ACCESSION   CM021111\n",
      "VERSION     CM021111.1\n",
      "KEYWORDS    .\n",
      "SOURCE      .\n",
      "  ORGANISM  .\n",
      "            .\n",
      "FEATURES             Location/Qualifiers\n",
      "     gene            complement(16175..18079)\n",
      "                     /gene_id=\"8ad3f444-384e-35e0-e560-aef88bd2863f\"\n",
      "                     /gene_biotype=\"ncRNA\"\n",
      "                     /locus_tag=\"GI526_G0000001\"\n",
      "                     /gene=\"8ad3f444-384e-35e0-e560-aef88bd2863f\"\n",
      "     ncRNA           complement(16175..18079)\n",
      "                     /ncrna_class=\"other\"\n",
      "                     /note=\"CAT transcript id: T0000001; CAT alignment id:\n",
      "                     IsoSeq-PB.2586.1; CAT novel prediction: IsoSeq\"\n",
      "                     /transcript_id=\"GI526_G0000001\"\n",
      "                     /transcript_name=\"GI526_G0000001\"\n",
      "                     /transcript_biotype=\"ncRNA\"\n",
      "                     /gene=\"8ad3f444-384e-35e0-e560-aef88bd2863f\"\n",
      "                     /locus_tag=\"GI526_G0000001\"\n",
      "     gene            37462..39103\n",
      "                     /gene=\"GDH3\"\n",
      "                     /gene_id=\"a1b669f1-57f6-ae9b-8f4f-a27a6e84d15a\"\n",
      "                     /gene_name=\"GDH3\"\n",
      "                     /gene_biotype=\"protein_coding\"\n",
      "                     /locus_tag=\"GI526_G0000002\"\n",
      "     CDS             37638..39011\n",
      "                     /codon_start=1\n",
      "                     /gene=\"GDH3\"\n",
      "                     /note=\"CAT transcript id: T0000002; CAT alignment id:\n",
      "                     NM_001178204.1-0; CAT source transcript id: NM_001178204.1;\n",
      "                     CAT source transcript biotype: protein_coding\"\n",
      "                     /translation=\"MTSEPEFQQAYDEIVSSVEDSKIFEKFPQYKKVLPIVSVPERIIQ\n",
      "                     FRVTWENDNGEQEVAQGYRVQFNSAKGPYKGGLRFHPSVNLSILKFLGFEQIFKNALTG\n",
      "                     LDMGGGKGGLCVDLKGKSDNEIRRICYAFMRELSRHIGKDTDVPAGDIGVGGREIGYLF\n",
      "                     GAYRSYKNSWEGVLTGKGLNWGGSLIRPEATGFGLVYYTQAMIDYATNGKESFEGKRVT\n",
      "                     ISGSGNVAQ\n"
     ]
    }
   ],
   "source": [
    "from tempfile import TemporaryDirectory\n",
    "from pathlib import Path\n",
    "\n",
    "with TemporaryDirectory() as tmp_dir:\n",
    "    tmp_file = Path(tmp_dir) / \"test.gbk\"\n",
    "    with open(tmp_file, \"w\") as fh:\n",
    "        collection_to_genbank(parsed_with_sequence, tmp_file)\n",
    "    with open(tmp_file, \"r\") as fh:\n",
    "        print(fh.read()[:2000])"
   ]
  },
  {
   "cell_type": "code",
   "execution_count": null,
   "metadata": {},
   "outputs": [],
   "source": []
  }
 ],
 "metadata": {
  "kernelspec": {
   "display_name": "igs",
   "language": "python",
   "name": "igs"
  },
  "language_info": {
   "codemirror_mode": {
    "name": "ipython",
    "version": 3
   },
   "file_extension": ".py",
   "mimetype": "text/x-python",
   "name": "python",
   "nbconvert_exporter": "python",
   "pygments_lexer": "ipython3",
   "version": "3.7.10"
  }
 },
 "nbformat": 4,
 "nbformat_minor": 4
}
