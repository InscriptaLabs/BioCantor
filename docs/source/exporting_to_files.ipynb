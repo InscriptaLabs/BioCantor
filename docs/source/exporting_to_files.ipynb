{
 "cells": [
  {
   "cell_type": "markdown",
   "metadata": {},
   "source": [
    "# Exporting BioCantor data models\n",
    "\n",
    "BioCantor data models can be exported to any of:\n",
    "\n",
    "1. GenBank\n",
    "2. GFF3\n",
    "3. JSON\n",
    "4. BED (TranscriptInterval and FeatureInterval only).\n",
    "\n",
    "The JSON representation can be read directly by the `marshmallow` data structures that build the data model."
   ]
  },
  {
   "cell_type": "code",
   "execution_count": null,
   "metadata": {},
   "outputs": [],
   "source": [
    "from inscripta.biocantor.io.gff3.parser import parse_gff3\n",
    "\n",
    "gff3 = \"tests/data/INSC1006_chrI.gff3\"\n",
    "\n",
    "model = list(parse_gff3(gff3))[0]\n",
    "parsed = model.to_annotation_collection()"
   ]
  },
  {
   "cell_type": "markdown",
   "metadata": {},
   "source": [
    "## GFF3\n",
    "\n",
    "Each of the five interval objects in BioCantor is capable of directly printing to GFF3. If this function is called on a parent object, each child is also recursively called."
   ]
  },
  {
   "cell_type": "code",
   "execution_count": null,
   "metadata": {},
   "outputs": [
    {
     "name": "stdout",
     "output_type": "stream",
     "text": [
      "CM021111.1\tBioCantor\tgene\t16175\t18079\t.\t+\t.\tID=9a8b23f6-06e5-72f5-6c06-56b48ce47626;gene_biotype=ncRNA\n",
      "CM021111.1\tBioCantor\ttranscript\t16175\t18079\t.\t-\t.\tID=d534e7a9-ba9f-2d18-8365-5e3a319b21bf;Parent=9a8b23f6-06e5-72f5-6c06-56b48ce47626;gene_biotype=ncRNA;transcript_biotype=ncRNA\n",
      "CM021111.1\tBioCantor\texon\t16175\t18079\t.\t-\t.\tID=exon-d534e7a9-ba9f-2d18-8365-5e3a319b21bf-1;Parent=d534e7a9-ba9f-2d18-8365-5e3a319b21bf;gene_biotype=ncRNA;transcript_biotype=ncRNA\n",
      "CM021111.1\tBioCantor\tgene\t37462\t39103\t.\t+\t.\tID=dfd34bd6-a1df-8bf3-c173-15d5cabd043f;Name=GDH3;gene_name=GDH3;gene_biotype=protein_coding\n",
      "CM021111.1\tBioCantor\ttranscript\t37462\t39103\t.\t+\t.\tID=4651a388-3090-2037-e344-ea4a3151eb3a;Parent=dfd34bd6-a1df-8bf3-c173-15d5cabd043f;Name=GDH3;gene_name=GDH3;gene_biotype=protein_coding;transcript_name=GDH3;transcript_biotype=protein_coding\n",
      "CM021111.1\tBioCantor\texon\t37462\t39103\t.\t+\t.\tID=exon-4651a388-3090-2037-e344-ea4a3151eb3a-1;Parent=4651a388-3090-2037-e344-ea4a3151eb3a;Name=GDH3;gene_name=GDH3;gene_biotype=protein_coding;transcript_name=GDH3;transcript_biotype=protein_coding\n",
      "CM021111.1\tBioCantor\tCDS\t37638\t39011\t.\t+\t0\tID=cds-4651a388-3090-2037-e344-ea4a3151eb3a-1;Parent=4651a388-3090-2037-e344-ea4a3151eb3a;Name=GDH3;gene_name=GDH3;gene_biotype=protein_coding;transcript_name=GDH3;transcript_biotype=protein_coding\n",
      "CM021111.1\tBioCantor\tgene\t39519\t40772\t.\t+\t.\tID=a59a7cf8-ba3b-3358-e5ac-b89d8856c6da;Name=BDH2;gene_name=BDH2;gene_biotype=protein_coding\n",
      "CM021111.1\tBioCantor\ttranscript\t39519\t40772\t.\t+\t.\tID=7aa6b928-8710-a88e-a09d-21048cdcbdc2;Parent=a59a7cf8-ba3b-3358-e5ac-b89d8856c6da;Name=BDH2;gene_name=BDH2;gene_biotype=protein_coding;transcript_name=BDH2;transcript_biotype=protein_coding;protein_id=KAF1903246.1\n",
      "CM021111.1\tBioCantor\texon\t39519\t40772\t.\t+\t.\tID=exon-7aa6b928-8710-a88e-a09d-21048cdcbdc2-1;Parent=7aa6b928-8710-a88e-a09d-21048cdcbdc2;Name=BDH2;gene_name=BDH2;gene_biotype=protein_coding;transcript_name=BDH2;transcript_biotype=protein_coding;protein_id=KAF1903246.1\n",
      "CM021111.1\tBioCantor\tCDS\t39519\t40772\t.\t+\t0\tID=cds-7aa6b928-8710-a88e-a09d-21048cdcbdc2-1;Parent=7aa6b928-8710-a88e-a09d-21048cdcbdc2;Name=BDH2;gene_name=BDH2;gene_biotype=protein_coding;transcript_name=BDH2;transcript_biotype=protein_coding;protein_id=KAF1903246.1\n",
      "CM021111.1\tBioCantor\tgene\t41086\t42503\t.\t+\t.\tID=658e5aa1-d133-5c90-bac0-6e6ee0dd403b;Name=BDH1;gene_name=BDH1;gene_biotype=protein_coding\n",
      "CM021111.1\tBioCantor\ttranscript\t41086\t42503\t.\t+\t.\tID=e172d320-c8ad-57a5-6c09-4dfc47bf1454;Parent=658e5aa1-d133-5c90-bac0-6e6ee0dd403b;Name=BDH1;gene_name=BDH1;gene_biotype=protein_coding;transcript_name=BDH1;transcript_biotype=protein_coding\n",
      "CM021111.1\tBioCantor\texon\t41086\t42503\t.\t+\t.\tID=exon-e172d320-c8ad-57a5-6c09-4dfc47bf1454-1;Parent=e172d320-c8ad-57a5-6c09-4dfc47bf1454;Name=BDH1;gene_name=BDH1;gene_biotype=protein_coding;transcript_name=BDH1;transcript_biotype=protein_coding\n"
     ]
    }
   ],
   "source": [
    "for gff_row in parsed.to_gff():\n",
    "    print(gff_row)"
   ]
  },
  {
   "cell_type": "markdown",
   "metadata": {},
   "source": [
    "### GFF3 with FASTA\n",
    "\n",
    "In addition to being able to print GFF directly, convenience functions exist to export GFF3 in one go, and optionally include sequence info."
   ]
  },
  {
   "cell_type": "code",
   "execution_count": null,
   "metadata": {},
   "outputs": [
    {
     "ename": "GFF3ExportException",
     "evalue": "Cannot export FASTA in GFF3 if collection has no associated sequence",
     "output_type": "error",
     "traceback": [
      "\u001b[0;31m---------------------------------------------------------------------------\u001b[0m",
      "\u001b[0;31mGFF3ExportException\u001b[0m                       Traceback (most recent call last)",
      "\u001b[0;32m<ipython-input-3-a761113e8576>\u001b[0m in \u001b[0;36m<module>\u001b[0;34m\u001b[0m\n\u001b[1;32m      3\u001b[0m \u001b[0;34m\u001b[0m\u001b[0m\n\u001b[1;32m      4\u001b[0m \u001b[0;32mwith\u001b[0m \u001b[0mopen\u001b[0m\u001b[0;34m(\u001b[0m\u001b[0;34m\"/dev/null\"\u001b[0m\u001b[0;34m,\u001b[0m \u001b[0;34m\"w\"\u001b[0m\u001b[0;34m)\u001b[0m \u001b[0;32mas\u001b[0m \u001b[0mfh\u001b[0m\u001b[0;34m:\u001b[0m\u001b[0;34m\u001b[0m\u001b[0;34m\u001b[0m\u001b[0m\n\u001b[0;32m----> 5\u001b[0;31m     \u001b[0mcollection_to_gff3\u001b[0m\u001b[0;34m(\u001b[0m\u001b[0;34m[\u001b[0m\u001b[0mparsed\u001b[0m\u001b[0;34m]\u001b[0m\u001b[0;34m,\u001b[0m \u001b[0mfh\u001b[0m\u001b[0;34m,\u001b[0m \u001b[0madd_sequences\u001b[0m\u001b[0;34m=\u001b[0m\u001b[0;32mTrue\u001b[0m\u001b[0;34m)\u001b[0m\u001b[0;34m\u001b[0m\u001b[0;34m\u001b[0m\u001b[0m\n\u001b[0m",
      "\u001b[0;32m~/biocantor/inscripta/biocantor/io/gff3/writer.py\u001b[0m in \u001b[0;36mcollection_to_gff3\u001b[0;34m(collections, gff3_handle, add_sequences, ordered)\u001b[0m\n\u001b[1;32m     35\u001b[0m         \u001b[0;32mfor\u001b[0m \u001b[0mcollection\u001b[0m \u001b[0;32min\u001b[0m \u001b[0mcollections\u001b[0m\u001b[0;34m:\u001b[0m\u001b[0;34m\u001b[0m\u001b[0;34m\u001b[0m\u001b[0m\n\u001b[1;32m     36\u001b[0m             \u001b[0;32mif\u001b[0m \u001b[0mcollection\u001b[0m\u001b[0;34m.\u001b[0m\u001b[0msequence\u001b[0m \u001b[0;32mis\u001b[0m \u001b[0;32mNone\u001b[0m\u001b[0;34m:\u001b[0m\u001b[0;34m\u001b[0m\u001b[0;34m\u001b[0m\u001b[0m\n\u001b[0;32m---> 37\u001b[0;31m                 \u001b[0;32mraise\u001b[0m \u001b[0mGFF3ExportException\u001b[0m\u001b[0;34m(\u001b[0m\u001b[0;34m\"Cannot export FASTA in GFF3 if collection has no associated sequence\"\u001b[0m\u001b[0;34m)\u001b[0m\u001b[0;34m\u001b[0m\u001b[0;34m\u001b[0m\u001b[0m\n\u001b[0m\u001b[1;32m     38\u001b[0m             print(\n\u001b[1;32m     39\u001b[0m                 GFF3Headers.SEQUENCE_HEADER.value.format(\n",
      "\u001b[0;31mGFF3ExportException\u001b[0m: Cannot export FASTA in GFF3 if collection has no associated sequence"
     ]
    }
   ],
   "source": [
    "# this does not work because it was parsed without sequence information\n",
    "from inscripta.biocantor.io.gff3.writer import collection_to_gff3\n",
    "\n",
    "with open(\"/dev/null\", \"w\") as fh:\n",
    "    collection_to_gff3([parsed], fh, add_sequences=True)"
   ]
  },
  {
   "cell_type": "code",
   "execution_count": null,
   "metadata": {},
   "outputs": [],
   "source": [
    "# parse the GFF3 with sequence instead this time and write to disk\n",
    "from inscripta.biocantor.io.gff3.parser import parse_gff3_embedded_fasta\n",
    "\n",
    "with open(\"/dev/null\", \"w\") as fh:\n",
    "    parsed_with_sequence = [x.to_annotation_collection() for x in parse_gff3_embedded_fasta(gff3)]\n",
    "    collection_to_gff3(parsed_with_sequence, fh, add_sequences=True)"
   ]
  },
  {
   "cell_type": "markdown",
   "metadata": {},
   "source": [
    "## JSON\n",
    "\n",
    "Each object also has a `to_dict()` function, which produces a dict that the `marshmallow` library understands. As a result, the below two operations are identical."
   ]
  },
  {
   "cell_type": "code",
   "execution_count": null,
   "metadata": {},
   "outputs": [
    {
     "data": {
      "text/plain": [
       "True"
      ]
     },
     "execution_count": null,
     "metadata": {},
     "output_type": "execute_result"
    }
   ],
   "source": [
    "model.Schema().load(parsed.to_dict()).to_annotation_collection().to_dict() == parsed.to_dict()"
   ]
  },
  {
   "cell_type": "markdown",
   "metadata": {},
   "source": [
    "However, the below is not true, only because the marshmallow schemas are `Ordered`, and so produced `OrderedDict`:"
   ]
  },
  {
   "cell_type": "code",
   "execution_count": null,
   "metadata": {},
   "outputs": [
    {
     "data": {
      "text/plain": [
       "False"
      ]
     },
     "execution_count": null,
     "metadata": {},
     "output_type": "execute_result"
    }
   ],
   "source": [
    "parsed.to_dict() == model.Schema().dump(model)"
   ]
  },
  {
   "cell_type": "markdown",
   "metadata": {},
   "source": [
    "## BED\n",
    "\n",
    "BED export is only valid on `TranscriptInterval` and `FeatureInterval` objects, because BED format does not model relationships between rows. All models are exported in `BED12` format."
   ]
  },
  {
   "cell_type": "code",
   "execution_count": null,
   "metadata": {},
   "outputs": [
    {
     "name": "stdout",
     "output_type": "stream",
     "text": [
      "CM021111.1\t16174\t18079\tNone\t0\t-\t0\t0\t0,0,0\t1\t1905\t0\n",
      "CM021111.1\t37461\t39103\tGDH3\t0\t+\t37637\t39011\t0,0,0\t1\t1642\t0\n",
      "CM021111.1\t39518\t40772\tBDH2\t0\t+\t39518\t40772\t0,0,0\t1\t1254\t0\n",
      "CM021111.1\t41085\t42503\tBDH1\t0\t+\t0\t0\t0,0,0\t1\t1418\t0\n"
     ]
    }
   ],
   "source": [
    "for gene_or_feature_collection in parsed:\n",
    "    for transcript_or_feature in gene_or_feature_collection:\n",
    "        print(transcript_or_feature.to_bed12())\n"
   ]
  },
  {
   "cell_type": "markdown",
   "metadata": {},
   "source": [
    "## GenBank\n",
    "\n",
    "All models can be exported to GenBank. GenBank export must be specified to be in either *prokaryotic* or *eukaryotic* flavors. See the document on parsing GenBank files for an explanation of the difference.\n",
    "\n",
    "GenBank export is problematic for genomes that have multiple isoforms per gene due to the lack of the ability to explicitly define the hierarchical relationship. BioCantor GenBank is always locus sorted, which helps resolve this ambiguity.\n",
    "\n",
    "GenBank export also the ability to export GenBank files compatible with Inscripta Engineering Portal. This mode of export ensures that there is always a unique `/gene` tag on every feature, and that `CDS` features have a `/translation` tag.\n",
    "\n",
    "The `organism` and `source` fields can be set by keyword arguments."
   ]
  },
  {
   "cell_type": "code",
   "execution_count": null,
   "metadata": {},
   "outputs": [
    {
     "ename": "GenBankExportError",
     "evalue": "Cannot export GenBank if collections do not have sequence information",
     "output_type": "error",
     "traceback": [
      "\u001b[0;31m---------------------------------------------------------------------------\u001b[0m",
      "\u001b[0;31mGenBankExportError\u001b[0m                        Traceback (most recent call last)",
      "\u001b[0;32m<ipython-input-11-ec8304677737>\u001b[0m in \u001b[0;36m<module>\u001b[0;34m\u001b[0m\n\u001b[1;32m      2\u001b[0m \u001b[0;34m\u001b[0m\u001b[0m\n\u001b[1;32m      3\u001b[0m \u001b[0;32mwith\u001b[0m \u001b[0mopen\u001b[0m\u001b[0;34m(\u001b[0m\u001b[0;34m\"/dev/null\"\u001b[0m\u001b[0;34m,\u001b[0m \u001b[0;34m\"w\"\u001b[0m\u001b[0;34m)\u001b[0m \u001b[0;32mas\u001b[0m \u001b[0mfh\u001b[0m\u001b[0;34m:\u001b[0m\u001b[0;34m\u001b[0m\u001b[0;34m\u001b[0m\u001b[0m\n\u001b[0;32m----> 4\u001b[0;31m     \u001b[0mcollection_to_genbank\u001b[0m\u001b[0;34m(\u001b[0m\u001b[0;34m[\u001b[0m\u001b[0mparsed\u001b[0m\u001b[0;34m]\u001b[0m\u001b[0;34m,\u001b[0m \u001b[0mfh\u001b[0m\u001b[0;34m)\u001b[0m\u001b[0;34m\u001b[0m\u001b[0;34m\u001b[0m\u001b[0m\n\u001b[0m",
      "\u001b[0;32m~/biocantor/inscripta/biocantor/io/genbank/writer.py\u001b[0m in \u001b[0;36mcollection_to_genbank\u001b[0;34m(collections, genbank_file_handle, genbank_type, force_strand, organism, source, iep_v1_compatible)\u001b[0m\n\u001b[1;32m     61\u001b[0m \u001b[0;34m\u001b[0m\u001b[0m\n\u001b[1;32m     62\u001b[0m         \u001b[0;32mif\u001b[0m \u001b[0mcollection\u001b[0m\u001b[0;34m.\u001b[0m\u001b[0msequence\u001b[0m \u001b[0;32mis\u001b[0m \u001b[0;32mNone\u001b[0m\u001b[0;34m:\u001b[0m\u001b[0;34m\u001b[0m\u001b[0;34m\u001b[0m\u001b[0m\n\u001b[0;32m---> 63\u001b[0;31m             \u001b[0;32mraise\u001b[0m \u001b[0mGenBankExportError\u001b[0m\u001b[0;34m(\u001b[0m\u001b[0;34m\"Cannot export GenBank if collections do not have sequence information\"\u001b[0m\u001b[0;34m)\u001b[0m\u001b[0;34m\u001b[0m\u001b[0;34m\u001b[0m\u001b[0m\n\u001b[0m\u001b[1;32m     64\u001b[0m \u001b[0;34m\u001b[0m\u001b[0m\n\u001b[1;32m     65\u001b[0m         seqrecord = SeqRecord(\n",
      "\u001b[0;31mGenBankExportError\u001b[0m: Cannot export GenBank if collections do not have sequence information"
     ]
    }
   ],
   "source": [
    "from inscripta.biocantor.io.genbank.writer import collection_to_genbank\n",
    "\n",
    "with open(\"/dev/null\", \"w\") as fh:\n",
    "    collection_to_genbank([parsed], fh)"
   ]
  },
  {
   "cell_type": "code",
   "execution_count": null,
   "metadata": {},
   "outputs": [
    {
     "name": "stdout",
     "output_type": "stream",
     "text": [
      "LOCUS       CM021111.1             50040 bp    DNA              UNK 01-JAN-1980\n",
      "DEFINITION  GenBank produced by BioCantor.\n",
      "ACCESSION   CM021111\n",
      "VERSION     CM021111.1\n",
      "KEYWORDS    .\n",
      "SOURCE      None\n",
      "  ORGANISM  .\n",
      "            .\n",
      "FEATURES             Location/Qualifiers\n",
      "     gene            complement(16175..18079)\n",
      "                     /gene_biotype=\"ncRNA\"\n",
      "                     /gene\n",
      "     ncRNA           complement(16175..18079)\n",
      "                     /gene_biotype=\"ncRNA\"\n",
      "                     /transcript_biotype=\"ncRNA\"\n",
      "     gene            37462..39103\n",
      "                     /gene_name=\"GDH3\"\n",
      "                     /gene_biotype=\"protein_coding\"\n",
      "                     /gene_symbol=\"GDH3\"\n",
      "                     /gene=\"GDH3\"\n",
      "     CDS             37638..39011\n",
      "                     /gene_name=\"GDH3\"\n",
      "                     /gene_biotype=\"protein_coding\"\n",
      "                     /transcript_name=\"GDH3\"\n",
      "                     /transcript_biotype=\"protein_coding\"\n",
      "     gene            39519..40772\n",
      "                     /gene_name=\"BDH2\"\n",
      "                     /gene_biotype=\"protein_coding\"\n",
      "                     /gene_symbol=\"BDH2\"\n",
      "                     /gene=\"BDH2\"\n",
      "     CDS             39519..40772\n",
      "                     /gene_name=\"BDH2\"\n",
      "                     /gene_biotype=\"protein_coding\"\n",
      "                     /transcript_name=\"BDH2\"\n",
      "                     /transcript_biotype=\"protein_coding\"\n",
      "                     /protein_id=\"KAF1903246.1\"\n",
      "     gene            41086..42503\n",
      "                     /gene_name=\"BDH1\"\n",
      "                     /gene_biotype=\"protein_coding\"\n",
      "                     /gene_symbol=\"BDH1\"\n",
      "                     /gene=\"BDH1\"\n",
      "     misc_RNA        41086..42503\n",
      "                     /gene_name=\"BDH1\"\n",
      "                     /gene_biotype=\"protein_coding\"\n",
      "                     /transcript_name=\"BDH1\"\n",
      "                     /transcript_biotype=\"protein_coding\"\n",
      "                     /gene=\"BDH1\"\n",
      "ORIGIN\n",
      "        1 actctctcta tctcatccac ctttactcgc gctgtcacac cttacccggc tttctgaccg\n",
      "       61 aaattaaaaa aatgaaaat\n"
     ]
    }
   ],
   "source": [
    "from tempfile import TemporaryDirectory\n",
    "from pathlib import Path\n",
    "\n",
    "with TemporaryDirectory() as tmp_dir:\n",
    "    tmp_file = Path(tmp_dir) / \"test.gbk\"\n",
    "    with open(tmp_file, \"w\") as fh:\n",
    "        collection_to_genbank(parsed_with_sequence, tmp_file)\n",
    "    with open(tmp_file, \"r\") as fh:\n",
    "        print(fh.read()[:2000])"
   ]
  },
  {
   "cell_type": "code",
   "execution_count": null,
   "metadata": {},
   "outputs": [],
   "source": []
  }
 ],
 "metadata": {
  "kernelspec": {
   "display_name": "biocantor",
   "language": "python",
   "name": "biocantor"
  },
  "language_info": {
   "codemirror_mode": {
    "name": "ipython",
    "version": 3
   },
   "file_extension": ".py",
   "mimetype": "text/x-python",
   "name": "python",
   "nbconvert_exporter": "python",
   "pygments_lexer": "ipython3",
   "version": "3.7.9"
  }
 },
 "nbformat": 4,
 "nbformat_minor": 4
}
