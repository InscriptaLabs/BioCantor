{
 "cells": [
  {
   "cell_type": "markdown",
   "metadata": {},
   "source": [
    "# `Parent` operations"
   ]
  },
  {
   "cell_type": "markdown",
   "metadata": {},
   "source": [
    "Note that all arguments to the `Parent` constructor are optional and any combination of them may be passed. The operations below will fail with an exception if required data is not present."
   ]
  },
  {
   "cell_type": "markdown",
   "metadata": {},
   "source": [
    "## Instantiate a `Parent` with a child location and its own parent\n",
    "\n",
    "This `Parent` object represents a slice of chr1 (positions 1000-2000). It specifies a child location within the slice, whose coordinates relative to the slice are positions 70-80. It also specifies its own parent, the complete chr1, relative to which it specifies coordinates 1000-2000."
   ]
  },
  {
   "cell_type": "code",
   "execution_count": null,
   "metadata": {},
   "outputs": [],
   "source": [
    "from inscripta.biocantor.parent import Parent\n",
    "from inscripta.biocantor.location.location_impl import SingleInterval, Strand\n",
    "\n",
    "parent = Parent(id=\"chr1_1000_2000\", \n",
    "                sequence_type=\"chromosome_slice\", \n",
    "                location=SingleInterval(70, 80, Strand.PLUS),\n",
    "                parent=Parent(id=\"chr1\",\n",
    "                              sequence_type=\"chromosome\",\n",
    "                              location=SingleInterval(1000, 2000, Strand.PLUS)))"
   ]
  },
  {
   "cell_type": "markdown",
   "metadata": {},
   "source": [
    "## Simple attributes"
   ]
  },
  {
   "cell_type": "markdown",
   "metadata": {},
   "source": [
    "#### ID"
   ]
  },
  {
   "cell_type": "code",
   "execution_count": null,
   "metadata": {},
   "outputs": [
    {
     "data": {
      "text/plain": [
       "'chr1_1000_2000'"
      ]
     },
     "execution_count": null,
     "metadata": {},
     "output_type": "execute_result"
    }
   ],
   "source": [
    "parent.id"
   ]
  },
  {
   "cell_type": "markdown",
   "metadata": {},
   "source": [
    "#### Sequence"
   ]
  },
  {
   "cell_type": "code",
   "execution_count": null,
   "metadata": {},
   "outputs": [
    {
     "data": {
      "text/plain": [
       "True"
      ]
     },
     "execution_count": null,
     "metadata": {},
     "output_type": "execute_result"
    }
   ],
   "source": [
    "parent.sequence is None"
   ]
  },
  {
   "cell_type": "markdown",
   "metadata": {},
   "source": [
    "#### Sequence type"
   ]
  },
  {
   "cell_type": "code",
   "execution_count": null,
   "metadata": {},
   "outputs": [
    {
     "data": {
      "text/plain": [
       "'chromosome_slice'"
      ]
     },
     "execution_count": null,
     "metadata": {},
     "output_type": "execute_result"
    }
   ],
   "source": [
    "parent.sequence_type"
   ]
  },
  {
   "cell_type": "markdown",
   "metadata": {},
   "source": [
    "#### Child location relative to this parent"
   ]
  },
  {
   "cell_type": "code",
   "execution_count": null,
   "metadata": {},
   "outputs": [
    {
     "data": {
      "text/plain": [
       "<SingleInterval 70-80:+>"
      ]
     },
     "execution_count": null,
     "metadata": {},
     "output_type": "execute_result"
    }
   ],
   "source": [
    "parent.location"
   ]
  },
  {
   "cell_type": "markdown",
   "metadata": {},
   "source": [
    "#### Child strand relative to this parent"
   ]
  },
  {
   "cell_type": "code",
   "execution_count": null,
   "metadata": {},
   "outputs": [
    {
     "data": {
      "text/plain": [
       "<Strand.PLUS: 1>"
      ]
     },
     "execution_count": null,
     "metadata": {},
     "output_type": "execute_result"
    }
   ],
   "source": [
    "parent.strand"
   ]
  },
  {
   "cell_type": "markdown",
   "metadata": {},
   "source": [
    "#### Parent of this parent"
   ]
  },
  {
   "cell_type": "code",
   "execution_count": null,
   "metadata": {},
   "outputs": [
    {
     "data": {
      "text/plain": [
       "<Parent: id=chr1, type=chromosome, strand=+, location=<SingleInterval 1000-2000:+>, sequence=None, parent=None>"
      ]
     },
     "execution_count": null,
     "metadata": {},
     "output_type": "execute_result"
    }
   ],
   "source": [
    "parent.parent"
   ]
  },
  {
   "cell_type": "markdown",
   "metadata": {},
   "source": [
    "## Operations with other `Parent` objects in a hierarchy"
   ]
  },
  {
   "cell_type": "markdown",
   "metadata": {},
   "source": [
    "#### Compare with another `Parent`, ignoring child location"
   ]
  },
  {
   "cell_type": "code",
   "execution_count": null,
   "metadata": {},
   "outputs": [],
   "source": [
    "other_parent_1 = Parent(id=\"chr1_1000_2000\",\n",
    "                        sequence_type=\"chromosome_slice\", \n",
    "                        location=SingleInterval(120, 130, Strand.PLUS),\n",
    "                        parent=Parent(id=\"chr1\",\n",
    "                                      sequence_type=\"chromosome\",\n",
    "                                      location=SingleInterval(1000, 2000, Strand.PLUS)))\n",
    "\n",
    "parent.equals_except_location(other_parent_1)"
   ]
  },
  {
   "cell_type": "code",
   "execution_count": null,
   "metadata": {},
   "outputs": [],
   "source": [
    "other_parent_2 = Parent(id=\"chr1_3000_4000\",\n",
    "                        sequence_type=\"chromosome_slice\", \n",
    "                        location=SingleInterval(70, 80, Strand.PLUS),\n",
    "                        parent=Parent(id=\"chr1\",\n",
    "                                      sequence_type=\"chromosome\",\n",
    "                                      location=SingleInterval(3000, 4000, Strand.PLUS)))\n",
    "\n",
    "parent.equals_except_location(other_parent_2)"
   ]
  },
  {
   "cell_type": "markdown",
   "metadata": {},
   "source": [
    "#### Retrieve nearest ancestor `Parent` of a given sequence type"
   ]
  },
  {
   "cell_type": "code",
   "execution_count": null,
   "metadata": {},
   "outputs": [
    {
     "data": {
      "text/plain": [
       "<Parent: id=chr1, type=chromosome, strand=+, location=<SingleInterval 1000-2000:+>, sequence=None, parent=None>"
      ]
     },
     "execution_count": null,
     "metadata": {},
     "output_type": "execute_result"
    }
   ],
   "source": [
    "parent.first_ancestor_of_type(\"chromosome\")"
   ]
  },
  {
   "cell_type": "code",
   "execution_count": null,
   "metadata": {},
   "outputs": [
    {
     "data": {
      "text/plain": [
       "False"
      ]
     },
     "execution_count": null,
     "metadata": {},
     "output_type": "execute_result"
    }
   ],
   "source": [
    "parent.has_ancestor_of_type(\"other_seq_type\")"
   ]
  },
  {
   "cell_type": "markdown",
   "metadata": {},
   "source": [
    "## Operations on child location"
   ]
  },
  {
   "cell_type": "markdown",
   "metadata": {},
   "source": [
    "#### Lift over child location to the parent of this parent\n",
    "\n",
    "Lift the child location relative to this chromosome slice up to the parent of this parent (the full chromosome)"
   ]
  },
  {
   "cell_type": "code",
   "execution_count": null,
   "metadata": {},
   "outputs": [
    {
     "data": {
      "text/plain": [
       "<SingleInterval <Parent: id=chr1, type=chromosome, strand=+, location=<SingleInterval 1070-1080:+>, sequence=None, parent=None>:1070-1080:+>"
      ]
     },
     "execution_count": null,
     "metadata": {},
     "output_type": "execute_result"
    }
   ],
   "source": [
    "parent.lift_child_location_to_parent()"
   ]
  },
  {
   "cell_type": "markdown",
   "metadata": {},
   "source": [
    "#### Reset or remove child location\n",
    "\n",
    "Useful for reusing the same `Parent` object for multiple children with different relative locations"
   ]
  },
  {
   "cell_type": "code",
   "execution_count": null,
   "metadata": {},
   "outputs": [
    {
     "data": {
      "text/plain": [
       "<Parent: id=chr1_1000_2000, type=chromosome_slice, strand=-, location=<SingleInterval 50-60:->, sequence=None, parent=<Parent: id=chr1, type=chromosome, strand=+, location=<SingleInterval 1000-2000:+>, sequence=None, parent=None>>"
      ]
     },
     "execution_count": null,
     "metadata": {},
     "output_type": "execute_result"
    }
   ],
   "source": [
    "parent.reset_location(SingleInterval(50, 60, Strand.MINUS))"
   ]
  },
  {
   "cell_type": "code",
   "execution_count": null,
   "metadata": {},
   "outputs": [
    {
     "data": {
      "text/plain": [
       "<Parent: id=chr1_1000_2000, type=chromosome_slice, strand=None, location=None, sequence=None, parent=<Parent: id=chr1, type=chromosome, strand=+, location=<SingleInterval 1000-2000:+>, sequence=None, parent=None>>"
      ]
     },
     "execution_count": null,
     "metadata": {},
     "output_type": "execute_result"
    }
   ],
   "source": [
    "parent.strip_location_info()"
   ]
  }
 ],
 "metadata": {
  "kernelspec": {
   "display_name": "biocantor",
   "language": "python",
   "name": "biocantor"
  },
  "language_info": {
   "codemirror_mode": {
    "name": "ipython",
    "version": 3
   },
   "file_extension": ".py",
   "mimetype": "text/x-python",
   "name": "python",
   "nbconvert_exporter": "python",
   "pygments_lexer": "ipython3",
   "version": "3.7.8"
  }
 },
 "nbformat": 4,
 "nbformat_minor": 2
}
