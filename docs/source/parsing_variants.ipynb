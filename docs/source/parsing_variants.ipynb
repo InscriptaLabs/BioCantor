{
 "cells": [
  {
   "cell_type": "markdown",
   "id": "175805cb-3b33-4a26-9db7-db314403af05",
   "metadata": {},
   "source": [
    "# Understanding Incorporating Variation\n",
    "\n",
    "## Requirements\n",
    "1. The VCF file must contain non-overlapping variants.\n",
    "2. The variants can be heterozygous.\n",
    "3. Phase set information is inferred from the `PS` tag.\n",
    "\n",
    "## The Concepts\n",
    "\n",
    "### VariantInterval\n",
    "A `VariantInterval` represents a single alternative haplotype. If a given variant has more than one alternative haplotype, a `VariantInterval` is constructed for each haplotype.\n",
    "\n",
    "### VariantIntervalCollection\n",
    "A `VariantIntervalCollection` is a group of variants on the same *phase group*. If variants are unphased, there is a 1:1 relationship between `VariantInterval` and `VariantIntervalCollection`.\n",
    "\n",
    "Therefore, each `VariantIntervalCollection` represents all of the changes associated with one known haplotype. It is possible for there to be multiple `VariantIntervalCollection` objects associated with one gene/feature if there are phase block breaks within a window, or if there are multiple haplotypes.\n",
    "\n",
    "## Associating With an `AnnotationCollection`\n",
    "Each parser module accepts an optional set of variants parsed from the included VCF parser. Upon instantiation, all of the haplotypes are associated with all of the genes/features parsed from the GFF3 or GenBank file.\n",
    "\n",
    "A mapping of the `VariantIntervalCollection` GUID is maintained to all of the modified genes/features associated with that collection."
   ]
  },
  {
   "cell_type": "code",
   "execution_count": 2,
   "id": "36d4237a-e629-492c-9afc-3419c320306a",
   "metadata": {},
   "outputs": [],
   "source": [
    "from inscripta.biocantor.io.genbank.parser import parse_genbank, ParsedAnnotationRecord\n",
    "from inscripta.biocantor.io.vcf.parser import parse_vcf_file\n",
    "from uuid import UUID"
   ]
  },
  {
   "cell_type": "code",
   "execution_count": 3,
   "id": "93f55636-659d-4030-ba02-9d42bf757de6",
   "metadata": {},
   "outputs": [
    {
     "name": "stdout",
     "output_type": "stream",
     "text": [
      "##fileformat=VCFv4.2\n",
      "##FORMAT=<ID=GT,Number=1,Type=String,Description=\"Genotype\">\n",
      "##FORMAT=<ID=PS,Number=1,Type=Integer,Description=\"Phase set identifier\">\n",
      "#CHROM\tPOS\tID\tREF\tALT\tQUAL\tFILTER\tINFO\tFORMAT\tINSC1003\n",
      "FEPOIHMA_1\t338\t1\tC\tG\t.\t.\t.\tGT:PS\t1|1:1\n",
      "FEPOIHMA_1\t350\t2\tT\tTGGG\t.\t.\t.\tGT:PS\t1|1:1\n",
      "FEPOIHMA_1\t450\t3\tC\tA\t.\t.\t.\tGT:PS\t0|1:2\n"
     ]
    }
   ],
   "source": [
    "# 3 example variants in 2 phase blocks:\n",
    "# a homozygous SNP in the 2nd codon\n",
    "# a homozygous GGG in-frame codon insertion\n",
    "# a heterozygous SNP\n",
    "!cat tests/data/INSC1003.example_variants.vcf"
   ]
  },
  {
   "cell_type": "code",
   "execution_count": 4,
   "id": "a95ca576-77a3-4256-9a4e-97056dc419fc",
   "metadata": {},
   "outputs": [],
   "source": [
    "parsed_variants = parse_vcf_file(\"tests/data/INSC1003.example_variants.vcf\")\n",
    "rec = list(\n",
    "    ParsedAnnotationRecord.parsed_annotation_records_to_model(\n",
    "        parse_genbank(\"tests/data/INSC1003.gbk\",\n",
    "                     parsed_variants=parsed_variants)\n",
    "    )\n",
    ")[0]"
   ]
  },
  {
   "cell_type": "code",
   "execution_count": 5,
   "id": "3f78f141-25f0-4f72-b1a5-cb2d95923fec",
   "metadata": {},
   "outputs": [
    {
     "data": {
      "text/plain": [
       "(7, 0, 2)"
      ]
     },
     "execution_count": 5,
     "metadata": {},
     "output_type": "execute_result"
    }
   ],
   "source": [
    "# 7 genes, 2 example VariantIntervalCollection\n",
    "len(rec.genes), len(rec.feature_collections), len(rec.variant_collections)"
   ]
  },
  {
   "cell_type": "code",
   "execution_count": 6,
   "id": "baefba23-e1c6-4dac-83fd-84a64d7a3fab",
   "metadata": {},
   "outputs": [
    {
     "data": {
      "text/plain": [
       "{UUID('8a423eeb-d142-ff1a-da3c-3edd74810c97'): [GeneInterval(identifiers={'thrA', 'FEPOIHMA_00001'}, Intervals:TranscriptInterval((334-2800:+), cds=[CDS((334-2800:+), (CDSFrame.ZERO)], symbol=thrA))],\n",
       " UUID('c68c9fa2-a55c-db48-3b2f-23bc61ae3d8d'): [GeneInterval(identifiers={'thrA', 'FEPOIHMA_00001'}, Intervals:TranscriptInterval((334-2797:+), cds=[CDS((334-2797:+), (CDSFrame.ZERO)], symbol=thrA))]}"
      ]
     },
     "execution_count": 6,
     "metadata": {},
     "output_type": "execute_result"
    }
   ],
   "source": [
    "# 2 VariantIntervalCollection each overlap the gene thrA\n",
    "# note that the version of thrA associated with \n",
    "# VariantIntervalCollection UUID('8a423eeb-d142-ff1a-da3c-3edd74810c97') \n",
    "# now exists on 334-2800 due to the 3bp insertion\n",
    "rec.alternative_haplotype_mapping"
   ]
  },
  {
   "cell_type": "code",
   "execution_count": 7,
   "id": "e7032dff-e19f-4052-b686-3f2ba7793365",
   "metadata": {},
   "outputs": [
    {
     "data": {
      "text/plain": [
       "'MRVLKFGGTSVANAERFLRV'"
      ]
     },
     "execution_count": 7,
     "metadata": {},
     "output_type": "execute_result"
    }
   ],
   "source": [
    "# the primary GeneInterval record retains the reference sequence, even if the variant is homozygous\n",
    "str(rec.genes[0].get_primary_protein())[:20]"
   ]
  },
  {
   "cell_type": "code",
   "execution_count": 8,
   "id": "261894a0-d1ea-4f99-ac3b-c640469cefc4",
   "metadata": {},
   "outputs": [
    {
     "data": {
      "text/plain": [
       "'MGVLKLGGGTSVANAERFLR'"
      ]
     },
     "execution_count": 8,
     "metadata": {},
     "output_type": "execute_result"
    }
   ],
   "source": [
    "# R -> G at 2nd codon\n",
    "# G codon insertion at 5th codon\n",
    "str(\n",
    "    rec.alternative_haplotype_mapping[UUID('8a423eeb-d142-ff1a-da3c-3edd74810c97')][0].get_primary_protein()\n",
    ")[:20]"
   ]
  },
  {
   "cell_type": "code",
   "execution_count": 12,
   "id": "4eb974ed-4534-4974-8e66-1bab4b892600",
   "metadata": {},
   "outputs": [],
   "source": [
    "# the AnnotationCollection can be sliced by position, and still retain the alternative haplotypes\n",
    "# if they overlap\n",
    "sliced_rec = rec.query_by_position(330, 400, completely_within=False)"
   ]
  },
  {
   "cell_type": "code",
   "execution_count": 13,
   "id": "cc1f0d4a-6049-41bf-a561-ca8d4c12349a",
   "metadata": {},
   "outputs": [
    {
     "data": {
      "text/plain": [
       "{UUID('8a423eeb-d142-ff1a-da3c-3edd74810c97'): [GeneInterval(identifiers={'thrA', 'FEPOIHMA_00001'}, Intervals:TranscriptInterval((334-403:+), cds=[CDS((334-403:+), (CDSFrame.ZERO)], symbol=thrA))]}"
      ]
     },
     "execution_count": 13,
     "metadata": {},
     "output_type": "execute_result"
    }
   ],
   "source": [
    "# the transcripts now exist on the sliced interval in the original coordinate system\n",
    "# therefore, the haplotype with the 3bp insertion is now 334-403\n",
    "# the other VariantIntervalCollection is now lost because it is outside of the window\n",
    "sliced_rec.alternative_haplotype_mapping"
   ]
  },
  {
   "cell_type": "code",
   "execution_count": 14,
   "id": "07e62058-cd64-43e4-b3f9-1226e9daaf8d",
   "metadata": {},
   "outputs": [
    {
     "data": {
      "text/plain": [
       "'MGVLKLGGGTSVANAERFLRVADILESNARQGQVATVLSAPAKITNHLVAMIEKTISGQDALPNISDAERIFAELLTGLAAAQPGFPLAQLKTFVDQEFAQIKHVLHGISLLGQCPDSINAALICRGEKMSIAIMAGVLEARGHNVTVIDPVEKLLAVGHYLESTVDIAESTRRIAASRIPADHMVLMAGFTAGNEKGELVVLGRNGSDYSAAVLAACLRADCCEIWTDVDGVYTCDPRQVPDARLLKSMSYQEAMELSYFGAKVLHPRTITPIAQFQIPCLIKNTGNPQAPGTLIGASRDEDELPVKGISNLNNMAMFSVSGPGMKGMVGMAARVFAAMSRARISVVLITQSSSEYSISFCVPQSDCVRAERAMQEEFYLELKEGLLEPLAVTERLAIISVVGDGMRTLRGISAKFFAALARANINIVAIAQGSSERSISVVVNNDDATTGVRVTHQMLFNTDQVIEVFVIGVGGVGGALLEQLKRQQSWLKNKHIDLRVCGVANSKALLTNVHGLNLENWQEELAQAKEPFNLGRLIRLVKEYHLLNPVIVDCTSSQAVADQYADFLREGFHVVTPNKKANTSSMDYYHLLRHAAEKSRRKFLYDTNVGAGLPVIENLQNLLNAGDELMKFSGILSGSLSYIFGKLDEGMSFSEATTLAREMGYTEPDPRDDLSGMDVARKLLILARETGRELELADIEIEPVLPAEFNAEGDVAAFMANLSQLDDLFAARVAKARDEGKVLRYVGNIDEDGACRVKIAEVDGNDPLFKVKNGENALAFYSHYYQPLPLVLRGYGAGNDVTAAGVFADLLRTLSWKLGV*'"
      ]
     },
     "execution_count": 14,
     "metadata": {},
     "output_type": "execute_result"
    }
   ],
   "source": [
    "# alternative haplotype translation now exists, but only within the window\n",
    "str(\n",
    "    rec.alternative_haplotype_mapping[UUID('8a423eeb-d142-ff1a-da3c-3edd74810c97')][0].get_primary_protein()\n",
    ")"
   ]
  },
  {
   "cell_type": "code",
   "execution_count": null,
   "id": "5491b35c-0267-4c93-9f6e-639ab2a5fa0b",
   "metadata": {},
   "outputs": [],
   "source": []
  }
 ],
 "metadata": {
  "kernelspec": {
   "display_name": "igs",
   "language": "python",
   "name": "igs"
  },
  "language_info": {
   "codemirror_mode": {
    "name": "ipython",
    "version": 3
   },
   "file_extension": ".py",
   "mimetype": "text/x-python",
   "name": "python",
   "nbconvert_exporter": "python",
   "pygments_lexer": "ipython3",
   "version": "3.7.10"
  }
 },
 "nbformat": 4,
 "nbformat_minor": 5
}