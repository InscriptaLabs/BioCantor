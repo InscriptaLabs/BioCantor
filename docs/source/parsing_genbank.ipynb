{
 "cells": [
  {
   "cell_type": "markdown",
   "metadata": {},
   "source": [
    "# Parsing GenBank files\n",
    "\n",
    "Without specification, the default GenBank parsing function will be used. This function relies on the `locus_tag` field present on every child of a gene feature."
   ]
  },
  {
   "cell_type": "code",
   "execution_count": null,
   "metadata": {},
   "outputs": [],
   "source": [
    "from inscripta.biocantor.io.genbank.parser import parse_genbank"
   ]
  },
  {
   "cell_type": "code",
   "execution_count": null,
   "metadata": {},
   "outputs": [],
   "source": [
    "gbk = \"tests/data/INSC1006_chrI.gbff\""
   ]
  },
  {
   "cell_type": "code",
   "execution_count": null,
   "metadata": {},
   "outputs": [],
   "source": [
    "with open(gbk, \"r\") as fh:\n",
    "    parsed = list(parse_genbank(fh))"
   ]
  },
  {
   "cell_type": "markdown",
   "metadata": {},
   "source": [
    "After parsing, there will be one `ParsedAnnotationRecord` built for every sequence in the GenBank file. This container class holds the original BioPython `SeqRecord` object, as well as one `AnnotationCollectionModel` for the parsed understanding of the annotations. These model objects are `marshmallow_dataclass` objects, and so can be dumped to and loaded directly from JSON."
   ]
  },
  {
   "cell_type": "code",
   "execution_count": null,
   "metadata": {},
   "outputs": [
    {
     "data": {
      "text/plain": [
       "OrderedDict([('feature_collections', None),\n",
       "             ('genes',\n",
       "              [OrderedDict([('transcripts',\n",
       "                             [OrderedDict([('exon_starts', [16174]),\n",
       "                                           ('exon_ends', [18079]),\n",
       "                                           ('strand', 'MINUS'),\n",
       "                                           ('cds_starts', None),\n",
       "                                           ('cds_ends', None),\n",
       "                                           ('cds_frames', None),\n",
       "                                           ('qualifiers',\n",
       "                                            {'ncRNA_class': ['other'],\n",
       "                                             'locus_tag': ['GI526_G0000001'],\n",
       "                                             'product': ['CAT novel prediction: IsoSeq'],\n",
       "                                             'note': ['CAT transcript id: T0000001; CAT alignment id: IsoSeq-PB.2586.1; CAT novel prediction: IsoSeq']}),\n",
       "                                           ('is_primary_tx', False),\n",
       "                                           ('transcript_id', None),\n",
       "                                           ('protein_id', None),\n",
       "                                           ('transcript_name', None),\n",
       "                                           ('transcript_type', 'ncRNA'),\n",
       "                                           ('sequence_name', 'CM021111.1'),\n",
       "                                           ('sequence_guid', None),\n",
       "                                           ('guid', None),\n",
       "                                           ('transcript_guid', None)])]),\n",
       "                            ('gene_id', None),\n",
       "                            ('gene_symbol', None),\n",
       "                            ('gene_type', 'ncRNA'),\n",
       "                            ('locus_tag', 'GI526_G0000001'),\n",
       "                            ('qualifiers', {'locus_tag': ['GI526_G0000001']}),\n",
       "                            ('sequence_name', 'CM021111.1'),\n",
       "                            ('sequence_guid', None),\n",
       "                            ('gene_guid', None)]),\n",
       "               OrderedDict([('transcripts',\n",
       "                             [OrderedDict([('exon_starts', [37461]),\n",
       "                                           ('exon_ends', [39103]),\n",
       "                                           ('strand', 'PLUS'),\n",
       "                                           ('cds_starts', [37637]),\n",
       "                                           ('cds_ends', [39011]),\n",
       "                                           ('cds_frames', ['ZERO']),\n",
       "                                           ('qualifiers',\n",
       "                                            {'gene': ['GDH3'],\n",
       "                                             'locus_tag': ['GI526_G0000002'],\n",
       "                                             'product': ['GDH3 isoform 1'],\n",
       "                                             'note': ['CAT transcript id: T0000002; CAT alignment id: NM_001178204.1-0; CAT source transcript id: NM_001178204.1; CAT source transcript biotype: protein_coding']}),\n",
       "                                           ('is_primary_tx', False),\n",
       "                                           ('transcript_id', None),\n",
       "                                           ('protein_id', None),\n",
       "                                           ('transcript_name', 'GDH3'),\n",
       "                                           ('transcript_type',\n",
       "                                            'protein_coding'),\n",
       "                                           ('sequence_name', 'CM021111.1'),\n",
       "                                           ('sequence_guid', None),\n",
       "                                           ('guid', None),\n",
       "                                           ('transcript_guid', None)])]),\n",
       "                            ('gene_id', None),\n",
       "                            ('gene_symbol', 'GDH3'),\n",
       "                            ('gene_type', 'protein_coding'),\n",
       "                            ('locus_tag', 'GI526_G0000002'),\n",
       "                            ('qualifiers',\n",
       "                             {'gene': ['GDH3'],\n",
       "                              'locus_tag': ['GI526_G0000002']}),\n",
       "                            ('sequence_name', 'CM021111.1'),\n",
       "                            ('sequence_guid', None),\n",
       "                            ('gene_guid', None)]),\n",
       "               OrderedDict([('transcripts',\n",
       "                             [OrderedDict([('exon_starts', [39518]),\n",
       "                                           ('exon_ends', [40772]),\n",
       "                                           ('strand', 'PLUS'),\n",
       "                                           ('cds_starts', [39518]),\n",
       "                                           ('cds_ends', [40772]),\n",
       "                                           ('cds_frames', ['ZERO']),\n",
       "                                           ('qualifiers',\n",
       "                                            {'gene': ['BDH2'],\n",
       "                                             'locus_tag': ['GI526_G0000003'],\n",
       "                                             'codon_start': ['1'],\n",
       "                                             'product': ['BDH2 isoform 1'],\n",
       "                                             'protein_id': ['KAF1903246.1'],\n",
       "                                             'translation': ['MRALAYFGKGNIRFTNHLKEPHIVAPDELVIDIAWCGICGTDLHEYTDGPIFFPEDGHTHEISHNPLPQAMGHEMAGTVLEVGPSVKNLKVGDKVVVEPTGTCRDRYRWPLSPKVDKEWCAACKKGYYNBioCantorYLGLCGAGVQSGGFAEGVVMNESHCYKVPDFVPLDVAALIQPLAVCWHAIRVCEFKAGSTALIIGAGPIGLGTILALNAAGCKDIVVSEPAKVRRELAEKMGARVYDPTAHAAKESIDYLRSIADGGDGFDYTFDCSGLEVTLNAAIQCLTFRGTAVNLAMWGHHKIQFSPMDITLHERKYTGSMCYTHHDFETVIEALEEGRIDIDRARHMITGRVNIEDGLDGAIMKLINEKESTIKIILTPNNHGELNREADNEKKEISELSSRKDQERLRESINEAKLRHT']}),\n",
       "                                           ('is_primary_tx', False),\n",
       "                                           ('transcript_id', None),\n",
       "                                           ('protein_id', 'KAF1903246.1'),\n",
       "                                           ('transcript_name', 'BDH2'),\n",
       "                                           ('transcript_type',\n",
       "                                            'protein_coding'),\n",
       "                                           ('sequence_name', 'CM021111.1'),\n",
       "                                           ('sequence_guid', None),\n",
       "                                           ('guid', None),\n",
       "                                           ('transcript_guid', None)])]),\n",
       "                            ('gene_id', None),\n",
       "                            ('gene_symbol', 'BDH2'),\n",
       "                            ('gene_type', 'protein_coding'),\n",
       "                            ('locus_tag', 'GI526_G0000003'),\n",
       "                            ('qualifiers',\n",
       "                             {'gene': ['BDH2'],\n",
       "                              'locus_tag': ['GI526_G0000003']}),\n",
       "                            ('sequence_name', 'CM021111.1'),\n",
       "                            ('sequence_guid', None),\n",
       "                            ('gene_guid', None)]),\n",
       "               OrderedDict([('transcripts',\n",
       "                             [OrderedDict([('exon_starts', [41085]),\n",
       "                                           ('exon_ends', [42503]),\n",
       "                                           ('strand', 'PLUS'),\n",
       "                                           ('cds_starts', None),\n",
       "                                           ('cds_ends', None),\n",
       "                                           ('cds_frames', None),\n",
       "                                           ('qualifiers',\n",
       "                                            {'gene': ['BDH1'],\n",
       "                                             'locus_tag': ['GI526_G0000004'],\n",
       "                                             'product': ['BDH1 isoform 1'],\n",
       "                                             'note': ['CAT transcript id: T0000004; CAT alignment id: NM_001178202.2-0; CAT source transcript id: NM_001178202.2; CAT source transcript biotype: protein_coding']}),\n",
       "                                           ('is_primary_tx', False),\n",
       "                                           ('transcript_id', None),\n",
       "                                           ('protein_id', None),\n",
       "                                           ('transcript_name', 'BDH1'),\n",
       "                                           ('transcript_type',\n",
       "                                            'protein_coding'),\n",
       "                                           ('sequence_name', 'CM021111.1'),\n",
       "                                           ('sequence_guid', None),\n",
       "                                           ('guid', None),\n",
       "                                           ('transcript_guid', None)])]),\n",
       "                            ('gene_id', None),\n",
       "                            ('gene_symbol', 'BDH1'),\n",
       "                            ('gene_type', 'protein_coding'),\n",
       "                            ('locus_tag', 'GI526_G0000004'),\n",
       "                            ('qualifiers',\n",
       "                             {'gene': ['BDH1'],\n",
       "                              'locus_tag': ['GI526_G0000004']}),\n",
       "                            ('sequence_name', 'CM021111.1'),\n",
       "                            ('sequence_guid', None),\n",
       "                            ('gene_guid', None)])]),\n",
       "             ('name', 'CM021111.1'),\n",
       "             ('sequence_name', 'CM021111.1'),\n",
       "             ('sequence_guid', None),\n",
       "             ('sequence_path', None),\n",
       "             ('qualifiers',\n",
       "              {'organism': ['Saccharomyces cerevisiae'],\n",
       "               'mol_type': ['genomic DNA'],\n",
       "               'strain': ['INSC1006'],\n",
       "               'db_xref': ['taxon:4932'],\n",
       "               'chromosome': ['I'],\n",
       "               'country': ['USA: Boulder, CO']}),\n",
       "             ('start', 0),\n",
       "             ('end', 50040),\n",
       "             ('completely_within', None)])"
      ]
     },
     "execution_count": null,
     "metadata": {},
     "output_type": "execute_result"
    }
   ],
   "source": [
    "annotation_collection_model = parsed[0].annotation\n",
    "annotation_collection_model.Schema().dump(annotation_collection_model)"
   ]
  },
  {
   "cell_type": "markdown",
   "metadata": {},
   "source": [
    "## Converting models to BioCantor data structures\n",
    "After loading an `AnnotationCollectionModel`, this object can be directly converted in to an `AnnotationCollection` with sequence information.\n",
    "\n",
    "`AnnotationCollection` objects are the core data structure, and contain a set of genes and features as children."
   ]
  },
  {
   "cell_type": "code",
   "execution_count": null,
   "metadata": {},
   "outputs": [],
   "source": [
    "annotation_collection = parsed[0].to_annotation_collection()"
   ]
  },
  {
   "cell_type": "code",
   "execution_count": null,
   "metadata": {},
   "outputs": [
    {
     "name": "stdout",
     "output_type": "stream",
     "text": [
      "GeneInterval(TranscriptInterval((16174-18079:-), cds=[None], qualifiers={'ncRNA_class': ['other'], 'locus_tag': ['GI526_G0000001'], 'product': ['CAT novel prediction: IsoSeq'], 'note': ['CAT transcript id: T0000001; CAT alignment id: IsoSeq-PB.2586.1; CAT novel prediction: IsoSeq']}))\n",
      "GeneInterval(TranscriptInterval((37461-39103:+), cds=[CDS((37637-39011:+), (CDSFrame.ZERO)], qualifiers={'gene': ['GDH3'], 'locus_tag': ['GI526_G0000002'], 'product': ['GDH3 isoform 1'], 'note': ['CAT transcript id: T0000002; CAT alignment id: NM_001178204.1-0; CAT source transcript id: NM_001178204.1; CAT source transcript biotype: protein_coding']}))\n",
      "GeneInterval(TranscriptInterval((39518-40772:+), cds=[CDS((39518-40772:+), (CDSFrame.ZERO)], qualifiers={'gene': ['BDH2'], 'locus_tag': ['GI526_G0000003'], 'codon_start': ['1'], 'product': ['BDH2 isoform 1'], 'protein_id': ['KAF1903246.1'], 'translation': ['MRALAYFGKGNIRFTNHLKEPHIVAPDELVIDIAWCGICGTDLHEYTDGPIFFPEDGHTHEISHNPLPQAMGHEMAGTVLEVGPSVKNLKVGDKVVVEPTGTCRDRYRWPLSPKVDKEWCAACKKGYYNBioCantorYLGLCGAGVQSGGFAEGVVMNESHCYKVPDFVPLDVAALIQPLAVCWHAIRVCEFKAGSTALIIGAGPIGLGTILALNAAGCKDIVVSEPAKVRRELAEKMGARVYDPTAHAAKESIDYLRSIADGGDGFDYTFDCSGLEVTLNAAIQCLTFRGTAVNLAMWGHHKIQFSPMDITLHERKYTGSMCYTHHDFETVIEALEEGRIDIDRARHMITGRVNIEDGLDGAIMKLINEKESTIKIILTPNNHGELNREADNEKKEISELSSRKDQERLRESINEAKLRHT']}))\n",
      "GeneInterval(TranscriptInterval((41085-42503:+), cds=[None], qualifiers={'gene': ['BDH1'], 'locus_tag': ['GI526_G0000004'], 'product': ['BDH1 isoform 1'], 'note': ['CAT transcript id: T0000004; CAT alignment id: NM_001178202.2-0; CAT source transcript id: NM_001178202.2; CAT source transcript biotype: protein_coding']}))\n"
     ]
    }
   ],
   "source": [
    "# this example dataset has 4 genes and 0 features\n",
    "for child in annotation_collection:\n",
    "    print(child)"
   ]
  },
  {
   "cell_type": "code",
   "execution_count": null,
   "metadata": {},
   "outputs": [],
   "source": [
    "gene1 = annotation_collection.genes[0]\n",
    "tx1 = gene1.transcripts[0]"
   ]
  },
  {
   "cell_type": "code",
   "execution_count": null,
   "metadata": {},
   "outputs": [
    {
     "data": {
      "text/plain": [
       "18078"
      ]
     },
     "execution_count": null,
     "metadata": {},
     "output_type": "execute_result"
    }
   ],
   "source": [
    "# convert mRNA coordinates to genomic coordinates\n",
    "tx1.transcript_pos_to_sequence(0)"
   ]
  },
  {
   "cell_type": "code",
   "execution_count": null,
   "metadata": {},
   "outputs": [
    {
     "ename": "NoncodingTranscriptError",
     "evalue": "No CDS positions on non-coding transcript",
     "output_type": "error",
     "traceback": [
      "\u001b[0;31m---------------------------------------------------------------------------\u001b[0m",
      "\u001b[0;31mNoncodingTranscriptError\u001b[0m                  Traceback (most recent call last)",
      "\u001b[0;32m<ipython-input-9-cdcda34e9d9f>\u001b[0m in \u001b[0;36m<module>\u001b[0;34m\u001b[0m\n\u001b[1;32m      1\u001b[0m \u001b[0;31m# NoncodingTranscriptError is raised when trying to convert CDS coordinates on a non-coding transcript\u001b[0m\u001b[0;34m\u001b[0m\u001b[0;34m\u001b[0m\u001b[0;34m\u001b[0m\u001b[0m\n\u001b[0;32m----> 2\u001b[0;31m \u001b[0mtx1\u001b[0m\u001b[0;34m.\u001b[0m\u001b[0mcds_pos_to_sequence\u001b[0m\u001b[0;34m(\u001b[0m\u001b[0;36m0\u001b[0m\u001b[0;34m)\u001b[0m\u001b[0;34m\u001b[0m\u001b[0;34m\u001b[0m\u001b[0m\n\u001b[0m",
      "\u001b[0;32m~/biocantor/inscripta/biocantor/gene/transcript.py\u001b[0m in \u001b[0;36mcds_pos_to_sequence\u001b[0;34m(self, pos)\u001b[0m\n\u001b[1;32m    221\u001b[0m         \u001b[0;34m\"\"\"Converts a relative position along the CDS to sequence coordinate.\"\"\"\u001b[0m\u001b[0;34m\u001b[0m\u001b[0;34m\u001b[0m\u001b[0m\n\u001b[1;32m    222\u001b[0m         \u001b[0;32mif\u001b[0m \u001b[0;32mnot\u001b[0m \u001b[0mself\u001b[0m\u001b[0;34m.\u001b[0m\u001b[0mis_coding\u001b[0m\u001b[0;34m:\u001b[0m\u001b[0;34m\u001b[0m\u001b[0;34m\u001b[0m\u001b[0m\n\u001b[0;32m--> 223\u001b[0;31m             \u001b[0;32mraise\u001b[0m \u001b[0mNoncodingTranscriptError\u001b[0m\u001b[0;34m(\u001b[0m\u001b[0;34m\"No CDS positions on non-coding transcript\"\u001b[0m\u001b[0;34m)\u001b[0m\u001b[0;34m\u001b[0m\u001b[0;34m\u001b[0m\u001b[0m\n\u001b[0m\u001b[1;32m    224\u001b[0m         \u001b[0;32mreturn\u001b[0m \u001b[0mself\u001b[0m\u001b[0;34m.\u001b[0m\u001b[0mcds\u001b[0m\u001b[0;34m.\u001b[0m\u001b[0mlocation\u001b[0m\u001b[0;34m.\u001b[0m\u001b[0mrelative_to_parent_pos\u001b[0m\u001b[0;34m(\u001b[0m\u001b[0mpos\u001b[0m\u001b[0;34m)\u001b[0m\u001b[0;34m\u001b[0m\u001b[0;34m\u001b[0m\u001b[0m\n\u001b[1;32m    225\u001b[0m \u001b[0;34m\u001b[0m\u001b[0m\n",
      "\u001b[0;31mNoncodingTranscriptError\u001b[0m: No CDS positions on non-coding transcript"
     ]
    }
   ],
   "source": [
    "# NoncodingTranscriptError is raised when trying to convert CDS coordinates on a non-coding transcript\n",
    "tx1.cds_pos_to_sequence(0)"
   ]
  },
  {
   "cell_type": "markdown",
   "metadata": {},
   "source": [
    "## Primary transcripts\n",
    "\n",
    "It is often useful to have an understanding of what isoform of a gene is the 'most important'. An input dataset can provide this information based on the parser implementation used. If this information is not provided, then this value is inferred by the simple heuristic of:\n",
    "\n",
    "1. Longest CDS isoform.\n",
    "2. Longest isoform (if no coding isoforms)."
   ]
  },
  {
   "cell_type": "code",
   "execution_count": null,
   "metadata": {},
   "outputs": [
    {
     "data": {
      "text/plain": [
       "True"
      ]
     },
     "execution_count": null,
     "metadata": {},
     "output_type": "execute_result"
    }
   ],
   "source": [
    "gene1.get_primary_transcript() == tx1"
   ]
  },
  {
   "cell_type": "markdown",
   "metadata": {},
   "source": [
    "## Incorporating sequence information\n",
    "\n",
    "By default, the instantiation call `ParsedAnnotationRecord.to_annotation_collection` incorporated the sequence information on the objects. This allows for extraction of various types of sequences, including amino acid and spliced transcripts."
   ]
  },
  {
   "cell_type": "code",
   "execution_count": null,
   "metadata": {},
   "outputs": [
    {
     "name": "stdout",
     "output_type": "stream",
     "text": [
      "None: mRNA: GCGGCGCTCT...\n",
      "GDH3: mRNA: AAACAGTTAA... protein: MTSEPEFQQA...\n",
      "BDH2: mRNA: ATGAGAGCCT... protein: MRALAYFGKG...\n",
      "BDH1: mRNA: GGGGCAGATA...\n"
     ]
    }
   ],
   "source": [
    "for gene in annotation_collection:\n",
    "    for tx in gene.transcripts:\n",
    "        if tx.is_coding:\n",
    "            print(f\"{tx.transcript_name}: mRNA: {tx.get_spliced_sequence()[:10]}... protein: {tx.get_protein_sequence()[:10]}...\")\n",
    "        else:\n",
    "            print(f\"{tx.transcript_name}: mRNA: {tx.get_spliced_sequence()[:10]}...\")"
   ]
  },
  {
   "cell_type": "markdown",
   "metadata": {},
   "source": [
    "## Querying the collection\n",
    "\n",
    "`AnnotationCollections` have the ability to be subsetted. These range queries can be performed in two modes, controlled by the flag `completely_within`. When `completely_within = True`, the positions in the query are exact bounds. When `completely_within = False`, any constituent object that overlaps the range query will be retained.\n",
    "\n",
    "`start` and `end` are not required to be set, and are inferred to be `0` and `len(sequence)` respectively if not used."
   ]
  },
  {
   "cell_type": "code",
   "execution_count": null,
   "metadata": {},
   "outputs": [
    {
     "name": "stdout",
     "output_type": "stream",
     "text": [
      "['GI526_G0000002', 'GI526_G0000003', 'GI526_G0000004']\n"
     ]
    }
   ],
   "source": [
    "# remove GI526_G0000001 by moving the start position to within its bounds, when strict boundaries are required\n",
    "subset1 = annotation_collection.query_by_position(start=16175, completely_within=True)\n",
    "print([x.locus_tag for x in subset1])"
   ]
  },
  {
   "cell_type": "code",
   "execution_count": null,
   "metadata": {},
   "outputs": [
    {
     "name": "stdout",
     "output_type": "stream",
     "text": [
      "16175 50040 True\n"
     ]
    }
   ],
   "source": [
    "# the information on the current range of the object is retained\n",
    "print(subset1.start, subset1.end, subset1.completely_within)"
   ]
  },
  {
   "cell_type": "code",
   "execution_count": null,
   "metadata": {},
   "outputs": [
    {
     "name": "stdout",
     "output_type": "stream",
     "text": [
      "['BDH2', 'BDH1']\n"
     ]
    }
   ],
   "source": [
    "# select BDH1 and BDH2\n",
    "subset2 = annotation_collection.query_by_position(start=40000, end=42000, completely_within=False)\n",
    "print([x.gene_symbol for x in subset2])"
   ]
  },
  {
   "cell_type": "code",
   "execution_count": null,
   "metadata": {},
   "outputs": [],
   "source": []
  }
 ],
 "metadata": {
  "language_info": {
   "codemirror_mode": {
    "name": "ipython",
    "version": 3
   },
   "file_extension": ".py",
   "mimetype": "text/x-python",
   "name": "python",
   "nbconvert_exporter": "python",
   "pygments_lexer": "ipython3",
   "version": "3.7.9"
  }
 },
 "nbformat": 4,
 "nbformat_minor": 4
}
