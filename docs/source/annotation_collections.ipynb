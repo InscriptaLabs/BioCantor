{
    "cells": [
        {
            "cell_type": "markdown",
            "id": "c3157268-f417-48f1-a115-7bbd58b5cf0d",
            "metadata": {},
            "source": [
                "# AnnotationCollection Operations\n",
                "\n",
                "`AnnotationCollection` is the top level data structure for interacting with annotations imported from GFF3 or GenBank.\n",
                "\n",
                "The class provides a range of functionality for interacting with child objects.",
            ],
        },
        {
            "cell_type": "code",
            "execution_count": null,
            "id": "f7391d4c-9c3c-443d-a157-3d72b1544732",
            "metadata": {},
            "outputs": [],
            "source": [
                "from inscripta.biocantor.io.genbank.parser import parse_genbank, ParsedAnnotationRecord\n",
                "from inscripta.biocantor.gene.collections import AnnotationCollection, GeneInterval, FeatureIntervalCollection, SequenceType\n",
                "from uuid import UUID",
            ],
        },
        {
            "cell_type": "code",
            "execution_count": null,
            "id": "b3270e52-fc06-4717-b413-5c8216ee6878",
            "metadata": {},
            "outputs": [
                {
                    "data": {
                        "text/plain": [
                            "AnnotationCollection(FeatureIntervalCollection(identifiers={'site1'}, Intervals:FeatureInterval((303-337:+), name=site1)),FeatureIntervalCollection(identifiers={'tag123', 'abc123'}, Intervals:FeatureInterval((16099-16175:-), name=abc123),FeatureInterval((42502-42600:-), name=abc123)),GeneInterval(identifiers={'GI526_G0000001'}, Intervals:TranscriptInterval((16174-18079:-), cds=[None], symbol=None)),GeneInterval(identifiers={'GI526_G0000002', 'GDH3'}, Intervals:TranscriptInterval((37461-39103:+), cds=[CDS((37637-39011:+), (CDSFrame.ZERO)], symbol=GDH3)),GeneInterval(identifiers={'BDH2', 'GI526_G0000003'}, Intervals:TranscriptInterval((39518-40772:+), cds=[CDS((39518-40772:+), (CDSFrame.ZERO)], symbol=BDH2)),GeneInterval(identifiers={'BDH1', 'GI526_G0000004'}, Intervals:TranscriptInterval((41085-42503:+), cds=[None], symbol=BDH1)))"
                        ]
                    },
                    "execution_count": null,
                    "metadata": {},
                    "output_type": "execute_result",
                }
            ],
            "source": [
                'gbk = "tests/data/INSC1006_chrI_with_features.gbff"\n',
                'with open(gbk, "r") as fh:\n',
                "    parsed = list(ParsedAnnotationRecord.parsed_annotation_records_to_model(parse_genbank(fh)))\n",
                "\n",
                "rec = parsed[0]\n",
                "rec",
            ],
        },
        {
            "cell_type": "code",
            "execution_count": null,
            "id": "7d64708a-8d9f-43cb-a9d8-6ec6a561d3ee",
            "metadata": {},
            "outputs": [
                {
                    "data": {"text/plain": ["{'CM021111.1'}"]},
                    "execution_count": null,
                    "metadata": {},
                    "output_type": "execute_result",
                }
            ],
            "source": [
                "# The identifiers set of an AnnotationCollection includes its sequence_name and sequence_guid if applicable \n",
                "rec.identifiers",
            ],
        },
        {
            "cell_type": "code",
            "execution_count": null,
            "id": "beebe604-c547-4809-a459-176c213bcb8e",
            "metadata": {},
            "outputs": [
                {
                    "data": {"text/plain": ["{'name': 'CM021111.1'}"]},
                    "execution_count": null,
                    "metadata": {},
                    "output_type": "execute_result",
                }
            ],
            "source": ["rec.identifiers_dict"],
        },
        {
            "cell_type": "markdown",
            "id": "60ba06b8-bf4d-4757-baa2-7252e21b5dd6",
            "metadata": {},
            "source": [
                "## GUIDs\n",
                "\n",
                "All child objects have hash-based `GUID` values assigned to them on instantiation if they are not provided already. These values represent a digest of the underlying data, and as a result uniquely identify any interval.",
            ],
        },
        {
            "cell_type": "code",
            "execution_count": null,
            "id": "d8a6a4a9-75a9-4f6f-8f0e-13f0e447b203",
            "metadata": {},
            "outputs": [
                {
                    "data": {
                        "text/plain": [
                            "{UUID('1a493d41-afd7-9ecb-9d71-234afa435b53'),\n",
                            " UUID('2ae0f4f5-2c02-7fd0-2a73-1bb150a95bba'),\n",
                            " UUID('4bf9371b-f4cd-2ed8-b505-c33c245717a0'),\n",
                            " UUID('61c85a0a-4849-56d5-523b-66118918d059'),\n",
                            " UUID('6ab47aca-2431-9161-5415-48464f77fde6'),\n",
                            " UUID('cad65870-b6d7-a0c1-90ed-9285f838942f')}",
                        ]
                    },
                    "execution_count": null,
                    "metadata": {},
                    "output_type": "execute_result",
                }
            ],
            "source": ["# this is the set of guids associated with this AnnotationCollection\n", "rec.children_guids"],
        },
        {
            "cell_type": "code",
            "execution_count": null,
            "id": "76b2a0e5-26f0-4b42-8283-0e7d11cbcc69",
            "metadata": {},
            "outputs": [
                {
                    "data": {
                        "text/plain": [
                            "{UUID('4bf9371b-f4cd-2ed8-b505-c33c245717a0'): {UUID('fefc2c49-9df8-e720-b1dd-dcc5ecf7fb07')},\n",
                            " UUID('2ae0f4f5-2c02-7fd0-2a73-1bb150a95bba'): {UUID('07cbcfb4-72d7-eaef-530c-1e25a0da820a'),\n",
                            "  UUID('ba86eab4-0f81-b37d-5d61-0a6efac7f3c8')},\n",
                            " UUID('cad65870-b6d7-a0c1-90ed-9285f838942f'): {UUID('2c8f8fd0-57f9-ba8b-4c25-5278f8d49e01')},\n",
                            " UUID('1a493d41-afd7-9ecb-9d71-234afa435b53'): {UUID('cd184afe-6e30-b6fe-8a70-bd4fd6cfb687')},\n",
                            " UUID('61c85a0a-4849-56d5-523b-66118918d059'): {UUID('0e4faa08-d14f-e453-4b9d-3825238d52b2')},\n",
                            " UUID('6ab47aca-2431-9161-5415-48464f77fde6'): {UUID('a1c57dea-8800-f417-8765-a42dda06df79')}}",
                        ]
                    },
                    "execution_count": null,
                    "metadata": {},
                    "output_type": "execute_result",
                }
            ],
            "source": [
                "# This is the set of GeneInterval or FeatureIntervalCollection GUIDs mapped on to their\n",
                "# respective TranscriptInterval or FeatureInterval GUIDs.\n",
                "rec.hierarchical_children_guids",
            ],
        },
        {
            "cell_type": "code",
            "execution_count": null,
            "id": "635f7529-326e-4ac9-8f17-fba2610cf18b",
            "metadata": {},
            "outputs": [
                {
                    "name": "stdout",
                    "output_type": "stream",
                    "text": [
                        "FeatureIntervalCollection(identifiers={'site1'}, Intervals:FeatureInterval((303-337:+), name=site1))\n",
                        "FeatureIntervalCollection(identifiers={'tag123', 'abc123'}, Intervals:FeatureInterval((16099-16175:-), name=abc123),FeatureInterval((42502-42600:-), name=abc123))\n",
                        "GeneInterval(identifiers={'GI526_G0000001'}, Intervals:TranscriptInterval((16174-18079:-), cds=[None], symbol=None))\n",
                        "GeneInterval(identifiers={'GI526_G0000002', 'GDH3'}, Intervals:TranscriptInterval((37461-39103:+), cds=[CDS((37637-39011:+), (CDSFrame.ZERO)], symbol=GDH3))\n",
                        "GeneInterval(identifiers={'BDH2', 'GI526_G0000003'}, Intervals:TranscriptInterval((39518-40772:+), cds=[CDS((39518-40772:+), (CDSFrame.ZERO)], symbol=BDH2))\n",
                        "GeneInterval(identifiers={'BDH1', 'GI526_G0000004'}, Intervals:TranscriptInterval((41085-42503:+), cds=[None], symbol=BDH1))\n",
                    ],
                }
            ],
            "source": [
                "# All Collection objects are iterable, in a depth-first fashion\n",
                "for child in rec:\n",
                "    print(child)",
            ],
        },
        {
            "cell_type": "code",
            "execution_count": null,
            "id": "f5c27d3d-6fd0-4ba4-9cba-5b27411726c7",
            "metadata": {},
            "outputs": [
                {
                    "data": {
                        "text/plain": [
                            "{UUID('4bf9371b-f4cd-2ed8-b505-c33c245717a0'): FeatureIntervalCollection(identifiers={'site1'}, Intervals:FeatureInterval((303-337:+), name=site1)),\n",
                            " UUID('2ae0f4f5-2c02-7fd0-2a73-1bb150a95bba'): FeatureIntervalCollection(identifiers={'tag123', 'abc123'}, Intervals:FeatureInterval((16099-16175:-), name=abc123),FeatureInterval((42502-42600:-), name=abc123)),\n",
                            " UUID('cad65870-b6d7-a0c1-90ed-9285f838942f'): GeneInterval(identifiers={'GI526_G0000001'}, Intervals:TranscriptInterval((16174-18079:-), cds=[None], symbol=None)),\n",
                            " UUID('1a493d41-afd7-9ecb-9d71-234afa435b53'): GeneInterval(identifiers={'GI526_G0000002', 'GDH3'}, Intervals:TranscriptInterval((37461-39103:+), cds=[CDS((37637-39011:+), (CDSFrame.ZERO)], symbol=GDH3)),\n",
                            " UUID('61c85a0a-4849-56d5-523b-66118918d059'): GeneInterval(identifiers={'BDH2', 'GI526_G0000003'}, Intervals:TranscriptInterval((39518-40772:+), cds=[CDS((39518-40772:+), (CDSFrame.ZERO)], symbol=BDH2)),\n",
                            " UUID('6ab47aca-2431-9161-5415-48464f77fde6'): GeneInterval(identifiers={'BDH1', 'GI526_G0000004'}, Intervals:TranscriptInterval((41085-42503:+), cds=[None], symbol=BDH1))}",
                        ]
                    },
                    "execution_count": null,
                    "metadata": {},
                    "output_type": "execute_result",
                }
            ],
            "source": ["# The property guid_map maps a child GUID to the child object\n", "rec.guid_map"],
        },
        {
            "cell_type": "markdown",
            "id": "6e144907-a804-46eb-be1a-55ff23722615",
            "metadata": {},
            "source": [
                "## Querying AnnotationCollection objects\n",
                "\n",
                "`AnnotationCollection` objects can be queried by `GUID`, `identifier` or `position`. The resulting object is always a newly instantiated `AnnotationCollection`.\n",
                "\n",
                "All identifier based query functions support either a single value or a list of values.",
            ],
        },
        {
            "cell_type": "code",
            "execution_count": null,
            "id": "cfacda67-0b71-4c58-a695-7159fc2ffa2d",
            "metadata": {},
            "outputs": [
                {
                    "data": {
                        "text/plain": [
                            "AnnotationCollection(FeatureIntervalCollection(identifiers={'site1'}, Intervals:FeatureInterval((303-337:+), name=site1)))"
                        ]
                    },
                    "execution_count": null,
                    "metadata": {},
                    "output_type": "execute_result",
                }
            ],
            "source": [
                "# query by child (GeneInterval/FeatureIntervalCollection) GUID\n",
                "rec.query_by_guids(UUID('4bf9371b-f4cd-2ed8-b505-c33c245717a0'))",
            ],
        },
        {
            "cell_type": "markdown",
            "id": "c03bccf3-e7ea-4993-802c-4c17d5328378",
            "metadata": {},
            "source": [
                "`AnnotationCollection` can also be queried based on identifiers of the `TranscriptInterval` or `FeatureInterval` sub-children directly. The resulting object will include the parent `GeneInterval` or `FeatureIntervalCollection`. If there are multiple transcripts for a gene, only the queried transcripts will be retained."
            ],
        },
        {
            "cell_type": "code",
            "execution_count": null,
            "id": "0bf68564-02e2-4f8c-9550-f21defef13bd",
            "metadata": {},
            "outputs": [
                {
                    "data": {
                        "text/plain": [
                            "AnnotationCollection(FeatureIntervalCollection(identifiers={'site1'}, Intervals:FeatureInterval((303-337:+), name=site1)))"
                        ]
                    },
                    "execution_count": null,
                    "metadata": {},
                    "output_type": "execute_result",
                }
            ],
            "source": ["rec.query_by_interval_guids(UUID('fefc2c49-9df8-e720-b1dd-dcc5ecf7fb07'))"],
        },
        {
            "cell_type": "code",
            "execution_count": null,
            "id": "b6e5a3ef-c446-4b11-a70f-7a4b87cc3bab",
            "metadata": {},
            "outputs": [
                {
                    "data": {"text/plain": ["True"]},
                    "execution_count": null,
                    "metadata": {},
                    "output_type": "execute_result",
                }
            ],
            "source": [
                "# query GUIDs looking specifically for either TranscriptInterval or FeatureIntervalCollection\n",
                "# this GUID is a FeatureInterval, so the resulting collection is empty\n",
                "queried = rec.query_by_transcript_interval_guids(UUID('fefc2c49-9df8-e720-b1dd-dcc5ecf7fb07'))\n",
                "queried.is_empty",
            ],
        },
        {
            "cell_type": "markdown",
            "id": "6f51507d-0950-4070-8e86-b98b6300d880",
            "metadata": {},
            "source": [
                "Querying by common identifiers is also possible. These include anyything that is considered an `identifier` of the children, including names and locus tags."
            ],
        },
        {
            "cell_type": "code",
            "execution_count": null,
            "id": "ced95a2d-7cd2-42d2-9ff0-4e526dc4b24a",
            "metadata": {},
            "outputs": [
                {
                    "data": {"text/plain": ["(2, 2)"]},
                    "execution_count": null,
                    "metadata": {},
                    "output_type": "execute_result",
                }
            ],
            "source": [
                'queried = rec.query_by_feature_identifiers(["site1", "tag123", "GI526_G0000002", "BDH1"])\n',
                "len(queried.feature_collections), len(queried.genes)",
            ],
        },
        {
            "cell_type": "markdown",
            "id": "5c91e4e4-d2ad-48eb-87bb-a4d868c580cf",
            "metadata": {},
            "source": [
                "### Querying by Position\n",
                "\n",
                "`AnnotationCollection` objects can be queried by position. This query takes two forms depending on the `completely_within` flag.\n",
                "\n",
                "If `completely_within` is `True`, then the returned `AnnotationCollection` will have child objects that are a strict subset of the provided interval. If `completely_within` is `False`, then the child objects can have any overlap with the provided interval.\n",
                "\n",
                "If one sub-feature of a child (`TranscriptInterval` or `FeatureInterval`) does not fit the query, but another sub-feature does, then only the sub-feature(s) that fit the query will remain in the resulting collection.\n",
                "\n",
                "See the docstring for `query_by_position` for more detailed information.",
            ],
        },
        {
            "cell_type": "code",
            "execution_count": null,
            "id": "c98b5d18-c1e2-43ce-aec8-5f3f7045ee97",
            "metadata": {},
            "outputs": [
                {
                    "data": {
                        "text/plain": [
                            "AnnotationCollection(FeatureIntervalCollection(identifiers={'site1'}, Intervals:FeatureInterval((303-337:+), name=site1)))"
                        ]
                    },
                    "execution_count": null,
                    "metadata": {},
                    "output_type": "execute_result",
                }
            ],
            "source": ["# completely_within defaults to True\n", "rec.query_by_position(start=0, end=1000)"],
        },
        {
            "cell_type": "code",
            "execution_count": null,
            "id": "9f2876f9-6bff-41d5-91bd-8d99aefd08d4",
            "metadata": {},
            "outputs": [
                {
                    "data": {"text/plain": ["AnnotationCollection()"]},
                    "execution_count": null,
                    "metadata": {},
                    "output_type": "execute_result",
                }
            ],
            "source": ["rec.query_by_position(start=0, end=330)"],
        },
        {
            "cell_type": "code",
            "execution_count": null,
            "id": "c3e07080-5f40-46b3-8258-9fca26ca5c22",
            "metadata": {},
            "outputs": [
                {
                    "data": {
                        "text/plain": [
                            "AnnotationCollection(FeatureIntervalCollection(identifiers={'site1'}, Intervals:FeatureInterval((303-337:+), name=site1)))"
                        ]
                    },
                    "execution_count": null,
                    "metadata": {},
                    "output_type": "execute_result",
                }
            ],
            "source": ["rec.query_by_position(start=305, end=330, completely_within=False)"],
        },
        {
            "cell_type": "markdown",
            "id": "e8559353-f0f2-47cd-a60c-1e1f6e6758ef",
            "metadata": {},
            "source": [
                "## Chunk-relative coordinates\n",
                "\n",
                "Querying by position introduces the concept of chunk-relative `Parent` objects. When an `AnnotationCollection` is queried by position, by default the returned object will have its sequence information truncated to the window of the query.\n",
                "\n",
                "If the query is performed with the `expand_location_to_children` flag set to `True`, then the resulting `Parent` object will still be reduced from the original sequence, but the bounds will be expanded to the bounds of the union of all children that satisfied the position query.\n",
                "\n",
                "Chunk-relative coordinates are the way in which BioCantor can hold subsets of the genome sequence in memory while still representing annotations in their original coordinate space.\n",
                "\n",
                "When any interval object exists on chunk-relative coordinates, the actual sequence information lives on the chunk-relative `Location` object, and the chromosome `Location` object represents a lift from that coordinate space to chromosome coordinate space.",
            ],
        },
        {
            "cell_type": "code",
            "execution_count": null,
            "id": "25f0b126-ca34-4849-820e-612c79538927",
            "metadata": {},
            "outputs": [],
            "source": ["queried = rec.query_by_position(start=37000, end=39200, completely_within=True)"],
        },
        {
            "cell_type": "code",
            "execution_count": null,
            "id": "7e14a845-8900-4b0d-89b9-aa604bef48e3",
            "metadata": {},
            "outputs": [
                {
                    "data": {
                        "text/plain": [
                            "<SingleInterval <Parent: id=CM021111.1, type=chromosome, strand=+, location=<SingleInterval 0-50040:+>, sequence=<CM021111.1;\n",
                            "  Alphabet=NT_EXTENDED_GAPPED;\n",
                            "  Length=50040;\n",
                            "  Parent=None;\n",
                            "  Type=chromosome>, parent=None>:0-50040:+>",
                        ]
                    },
                    "execution_count": null,
                    "metadata": {},
                    "output_type": "execute_result",
                }
            ],
            "source": ["# original record is a full length chromosome\n", "rec.chromosome_location"],
        },
        {
            "cell_type": "code",
            "execution_count": null,
            "id": "ce02baa3-52a2-40e4-9067-57335ed3e9dd",
            "metadata": {},
            "outputs": [
                {
                    "data": {
                        "text/plain": [
                            "<SingleInterval <Parent: id=CM021111.1, type=chromosome, strand=+, location=<SingleInterval 37000-39200:+>, sequence=None, parent=None>:37000-39200:+>"
                        ]
                    },
                    "execution_count": null,
                    "metadata": {},
                    "output_type": "execute_result",
                }
            ],
            "source": [
                "# queried chromosome location now represents the sub-region of the genome queried\n",
                "queried.chromosome_location",
            ],
        },
        {
            "cell_type": "code",
            "execution_count": null,
            "id": "f1647a2a-3669-42c2-8419-4d68a306a312",
            "metadata": {},
            "outputs": [
                {
                    "data": {
                        "text/plain": [
                            "<SingleInterval <Parent: id=CM021111.1:37000-39200, type=sequence_chunk, strand=+, location=<SingleInterval 0-2200:+>, sequence=<CM021111.1:37000-39200;\n",
                            "  Alphabet=NT_EXTENDED_GAPPED;\n",
                            "  Length=2200;\n",
                            "  Parent=<Parent: id=CM021111.1, type=chromosome, strand=+, location=<SingleInterval <Parent: id=CM021111.1, type=chromosome, strand=+, location=<SingleInterval 37000-39200:+>, sequence=None, parent=None>:37000-39200:+>, sequence=None, parent=None>;\n",
                            "  Type=sequence_chunk>, parent=<Parent: id=CM021111.1, type=chromosome, strand=+, location=<SingleInterval <Parent: id=CM021111.1, type=chromosome, strand=+, location=<SingleInterval 37000-39200:+>, sequence=None, parent=None>:37000-39200:+>, sequence=None, parent=None>>:0-2200:+>",
                        ]
                    },
                    "execution_count": null,
                    "metadata": {},
                    "output_type": "execute_result",
                }
            ],
            "source": [
                "# the chunk relative location shows the full hierarchical relationship from \n",
                "# the sequence chunk to the chromosome\n",
                "queried.chunk_relative_location",
            ],
        },
        {
            "cell_type": "code",
            "execution_count": null,
            "id": "fbf13d75-cb8d-458d-98cc-62c308cef723",
            "metadata": {},
            "outputs": [
                {
                    "data": {"text/plain": ["(False, True)"]},
                    "execution_count": null,
                    "metadata": {},
                    "output_type": "execute_result",
                }
            ],
            "source": [
                "# boolean flags let you know that you are working with something that has a chunk-relative Parent\n",
                "rec.is_chunk_relative, queried.is_chunk_relative",
            ],
        },
        {
            "cell_type": "code",
            "execution_count": null,
            "id": "a56f474c-ce31-4695-9ebd-4a5b53fb7207",
            "metadata": {},
            "outputs": [
                {
                    "data": {
                        "text/plain": [
                            "{'genes': [{'transcripts': [{'exon_starts': [37461],\n",
                            "     'exon_ends': [39103],\n",
                            "     'strand': 'PLUS',\n",
                            "     'cds_starts': [37637],\n",
                            "     'cds_ends': [39011],\n",
                            "     'cds_frames': ['ZERO'],\n",
                            "     'qualifiers': {'gene': ['GDH3'],\n",
                            "      'locus_tag': ['GI526_G0000002'],\n",
                            "      'product': ['GDH3 isoform 1'],\n",
                            "      'note': ['CAT transcript id: T0000002; CAT alignment id: NM_001178204.1-0; CAT source transcript id: NM_001178204.1; CAT source transcript biotype: protein_coding'],\n",
                            "      'codon_start': ['1'],\n",
                            "      'protein_id': ['KAF1903245.1'],\n",
                            "      'translation': ['MTSEPEFQQAYDEIVSSVEDSKIFEKFPQYKKVLPIVSVPERIIQFRVTWENDNGEQEVAQGYRVQFNSAKGPYKGGLRFHPSVNLSILKFLGFEQIFKNALTGLDMGGGKGGLCVDLKGKSDNEIRRICYAFMRELSRHIGKDTDVPAGDIGVGGREIGYLFGAYRSYKNSWEGVLTGKGLNWGGSLIRPEATGFGLVYYTQAMIDYATNGKESFEGKRVTISGSGNVAQYAALKVIELGGIVVSLSDSKGCIISETGITSEQIHDIASAKIRFKSLEEIVDEYSTFSESKMKYVAGARPWTHVSNVDIALPCATQNEVSGDEAKALVASGVKFVAEGANMGSTPEAISVFETARSTATNAKDAVWFGPPKAANLGGVAVSGLEMAQNSQKVTWTAERVDQELKKIMINCFNDCIQAAQEYSTEKNTNTLPSLVKGANIASFVMVADAMLDQGDVF']},\n",
                            "     'is_primary_tx': False,\n",
                            "     'transcript_id': None,\n",
                            "     'transcript_symbol': 'GDH3',\n",
                            "     'transcript_type': 'protein_coding',\n",
                            "     'sequence_name': 'CM021111.1',\n",
                            "     'sequence_guid': None,\n",
                            "     'protein_id': 'KAF1903245.1',\n",
                            "     'product': 'GDH3 isoform 1',\n",
                            "     'transcript_guid': None,\n",
                            "     'transcript_interval_guid': UUID('cd184afe-6e30-b6fe-8a70-bd4fd6cfb687')}],\n",
                            "   'gene_id': None,\n",
                            "   'gene_symbol': 'GDH3',\n",
                            "   'gene_type': 'protein_coding',\n",
                            "   'locus_tag': 'GI526_G0000002',\n",
                            "   'qualifiers': {'gene': ['GDH3'], 'locus_tag': ['GI526_G0000002']},\n",
                            "   'sequence_name': 'CM021111.1',\n",
                            "   'sequence_guid': None,\n",
                            "   'gene_guid': UUID('1a493d41-afd7-9ecb-9d71-234afa435b53')}],\n",
                            " 'feature_collections': [],\n",
                            " 'name': 'CM021111.1',\n",
                            " 'id': None,\n",
                            " 'qualifiers': {'organism': ['Saccharomyces cerevisiae'],\n",
                            "  'mol_type': ['genomic DNA'],\n",
                            "  'strain': ['INSC1006'],\n",
                            "  'db_xref': ['taxon:4932'],\n",
                            "  'chromosome': ['I'],\n",
                            "  'country': ['USA: Boulder, CO']},\n",
                            " 'sequence_name': 'CM021111.1',\n",
                            " 'sequence_guid': None,\n",
                            " 'sequence_path': None,\n",
                            " 'start': 37000,\n",
                            " 'end': 39200,\n",
                            " 'completely_within': True,\n",
                            " 'parent_or_seq_chunk_parent': {'seq': 'AAAACGCTTTCAAAGTTTTCTCTATAAACATACTTGTAGCAGCTGGTTTTTTTTGTTTTATTTTTAAGTTTTGTTAGGTCTCTCAGAACTTTCAAAAAAAGAAAAAGTAAAGTATAATAAAACGGAGCACTTGCCAAAGTAATTAACGCCCATTAAAAAGAAGGCATAGGAGGCATATATATATATATATGGCTGTTAACAGATATTCTGCGCTTAAAAGCTAAAAATATTATACCAACTTTTCTTTTTCTTCCCATTCAGTTTGCTTGATTGGCCCAGCTCTTTGAAGAAAGGAAAAATGCGGAGAGGGAGCCAATGAGATTTTAAAGGGTATATTACTTATCTTATCGATAAGCAGTATTGATATTAAAGGGACAGTTTTATCGTTGGTTAATATGGAAAAAGTGATGACCATGATGCCTTTCTTAAAAAGGGTATTTCTTTTAATTTCACTTTCACATAAACAGTTAATGACTTCTGACTTTGAGCCGTTCGAACTCAGTTATATAAAGGTACATACATAGGCCACACACACACACACACACACACACACACACACATATATATATATATATATATATATATATATATAGGGAAGTAGCAACAGTCACCGAAAAGAAAAGGTAAAAAGTAAAAAATGACAAGCGAACCAGAGTTTCAGCAGGCTTACGATGAGATCGTTTCTTCTGTGGAGGATTCCAAAATCTTTGAAAAATTCCCACAGTATAAAAAAGTGTTACCTATTGTTTCTGTCCCGGAGAGGATCATTCAATTCAGGGTCACGTGGGAAAATGATAATGGCGAGCAAGAAGTGGCTCAAGGATATAGGGTGCAGTTCAATTCAGCCAAGGGCCCTTACAAGGGTGGCCTACGCTTCCACCCATCAGTGAATCTGTCTATCCTAAAATTTTTGGGTTTCGAACAGATCTTCAAGAATGCGCTCACTGGGCTAGATATGGGCGGTGGTAAGGGTGGCCTGTGTGTGGACTTGAAAGGCAAGTCTGACAACGAGATCAGAAGGATTTGTTATGCGTTCATGAGAGAATTGAGCAGGCATATCGGTAAGGACACAGACGTGCCCGCAGGAGATATTGGTGTCGGTGGCCGTGAAATTGGCTACCTATTCGGCGCTTACAGATCATACAAGAACTCCTGGGAAGGTGTGTTGACTGGTAAGGGTTTAAACTGGGGTGGCTCACTTATCAGGCCGGAGGCTACCGGGTTCGGCCTAGTTTACTATACGCAAGCAATGATCGATTATGCAACAAACGGCAAGGAGTCGTTTGAGGGCAAACGTGTGACAATCTCCGGAAGTGGCAATGTTGCGCAATATGCAGCTTTAAAAGTGATCGAGCTGGGTGGTATTGTGGTGTCTTTATCCGATTCGAAGGGGTGCATCATCTCTGAGACGGGCATTACTTCTGAGCAAATTCACGATATCGCTTCCGCCAAGATCCGTTTCAAGTCGTTAGAGGAAATCGTTGATGAATACTCTACTTTCAGCGAAAGTAAGATGAAGTACGTTGCAGGAGCACGCCCATGGACGCATGTGAGCAACGTCGACATTGCCTTGCCCTGTGCTACCCAAAACGAGGTCAGTGGTGACGAAGCCAAGGCCCTAGTGGCATCTGGCGTTAAGTTCGTTGCCGAAGGTGCTAACATGGGTTCTACACCCGAGGCTATTTCTGTTTTCGAAACAGCGCGTAGCACTGCAACCAATGCCAAGGATGCAGTTTGGTTTGGGCCACCAAAGGCAGCTAACCTGGGCGGCGTGGCAGTATCCGGTCTGGAAATGGCTCAGAATTCTCAAAAAGTAACTTGGACTGCCGAGCGGGTCGATCAAGAACTAAAGAAGATAATGATCAACTGCTTCAACGACTGCATACAGGCCGCACAAGAGTACTCTACGGAAAAAAATACAAACACCTTGCCATCATTGGTCAAGGGGGCCAATATTGCCAGCTTCGTCATGGTGGCTGACGCAATGCTTGACCAGGGAGACGTTTTTTAGCCGTAAGCGCTATTTTCTTTTTGTTCGTAACTATCTGTGTATGTATTAATGTAATCTACTTTTAATTTACTATGCAAATAGGGTTCAGCATTACGGAAGGAACTGAACTCCCTTCCGCGGAAGTTTCTTTGTAGTGACCGTGCGGGGTGAGGAGATTACATGTCGGTAATTAGATGATTAACCTAGGCA',\n",
                            "  'sequence_name': 'CM021111.1',\n",
                            "  'start': 37000,\n",
                            "  'end': 39200,\n",
                            "  'strand': 'PLUS',\n",
                            "  'alphabet': 'NT_EXTENDED_GAPPED',\n",
                            "  'type': 'SEQUENCE_CHUNK'}}",
                        ]
                    },
                    "execution_count": null,
                    "metadata": {},
                    "output_type": "execute_result",
                }
            ],
            "source": [
                "# the resulting AnnotationCollection can be exported to a dictionary/JSON representation with\n",
                "# the sub-selected sequence.\n",
                "queried.to_dict(export_parent=True)",
            ],
        },
        {
            "cell_type": "code",
            "execution_count": null,
            "id": "548b9434-8887-417d-b592-d6a5282937d2",
            "metadata": {},
            "outputs": [
                {
                    "data": {
                        "text/plain": [
                            "'MTSEPEFQQAYDEIVSSVEDSKIFEKFPQYKKVLPIVSVPERIIQFRVTWENDNGEQEVAQGYRVQFNSAKGPYKGGLRFHPSVNLSILKFLGFEQIFKNALTGLDMGGGKGGLCVDLKGKSDNEIRRICYAFMRELSRHIGKDTDVPAGDIGVGGREIGYLFGAYRSYKNSWEGVLTGKGLNWGGSLIRPEATGFGLVYYTQAMIDYATNGKESFEGKRVTISGSGNVAQYAALKVIELGGIVVSLSDSKGCIISETGITSEQIHDIASAKIRFKSLEEIVDEYSTFSESKMKYVAGARPWTHVSNVDIALPCATQNEVSGDEAKALVASGVKFVAEGANMGSTPEAISVFETARSTATNAKDAVWFGPPKAANLGGVAVSGLEMAQNSQKVTWTAERVDQELKKIMINCFNDCIQAAQEYSTEKNTNTLPSLVKGANIASFVMVADAMLDQGDVF*'"
                        ]
                    },
                    "execution_count": null,
                    "metadata": {},
                    "output_type": "execute_result",
                }
            ],
            "source": [
                "# because the query was the full length of the gene, the full length ORF can be extracted\n",
                "str(queried.genes[0].get_primary_protein())",
            ],
        },
        {
            "cell_type": "code",
            "execution_count": null,
            "id": "507fa4a9-125f-464e-b4e3-41369827ed03",
            "metadata": {},
            "outputs": [
                {
                    "data": {
                        "text/plain": [
                            "GeneInterval(identifiers={'GI526_G0000002', 'GDH3'}, Intervals:TranscriptInterval((37461-39103:+), cds=[CDS((37637-39011:+), (CDSFrame.ZERO)], symbol=GDH3))"
                        ]
                    },
                    "execution_count": null,
                    "metadata": {},
                    "output_type": "execute_result",
                }
            ],
            "source": [
                "# The __repr__ of the intervals themselves still represent the original coordinate system\n",
                "queried.genes[0]",
            ],
        },
        {
            "cell_type": "code",
            "execution_count": null,
            "id": "f850a0c4-f2fc-4270-b069-6cb0113042fd",
            "metadata": {},
            "outputs": [
                {
                    "data": {
                        "text/plain": [
                            "'TSEPEFQQAYDEIVSSVEDSKIFEKFPQYKKVLPIVSVPERIIQFRVTWENDNGEQEVAQGYRVQFNSAKGPYKGGLRFHPSVNLSILKFLGFEQIFKNALTGLDMGGGKGGLCVDLKGKSDNEIRRICYAFMRELSRHIGKDTDVPAGDIGVGGREIGYLFGAYRSYKNSWEGVLTGKGLNWGGSLIRPEATGFGLVYYTQAMIDYATNGKESFEGKRVTISGSGNVAQYAALKVIELGGIVVSLSDSKGCIISETGITSEQIHDIASAKIRFKSLEEIVDEYSTFSESKMKYVAGARPWTHVSNVDIALPCATQNEVSGDEAKALVASGVKFVAEGANMGSTPEAISVFETARSTATNAKDAVWFGPPKAANLGGVAVSGLEMAQNSQKVTWTAERVDQELKKIMINCFNDCIQAAQE'"
                        ]
                    },
                    "execution_count": null,
                    "metadata": {},
                    "output_type": "execute_result",
                }
            ],
            "source": [
                "# Query a subset of the gene\n",
                "queried = rec.query_by_position(start=37640, end=38900, completely_within=False)\n",
                "\n",
                "# the resulting translation is now bounded by the window of the query\n",
                "str(queried.genes[0].get_primary_protein())",
            ],
        },
        {
            "cell_type": "code",
            "execution_count": null,
            "id": "2fa821af-e674-405e-b8d3-dd6443950896",
            "metadata": {},
            "outputs": [],
            "source": [],
        },
    ],
    "metadata": {
        "language_info": {
            "codemirror_mode": {"name": "ipython", "version": 3},
            "file_extension": ".py",
            "mimetype": "text/x-python",
            "name": "python",
            "nbconvert_exporter": "python",
            "pygments_lexer": "ipython3",
            "version": "3.7.10",
        },
    },
    "nbformat": 4,
    "nbformat_minor": 5,
}
