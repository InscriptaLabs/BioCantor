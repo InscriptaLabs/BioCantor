{
 "cells": [
  {
   "cell_type": "markdown",
   "metadata": {},
   "source": [
    "# Vignettes\n",
    "\n",
    "Several longer examples demonstrate use cases for BioCantor."
   ]
  },
  {
   "cell_type": "markdown",
   "metadata": {},
   "source": [
    "## Map variants to their relative position within overlapping transcripts\n",
    "\n",
    "This example simulates working with exome variant annotations. BioCantor can be used to map chromosome-relative variants to their relative position along transcripts, for example permitting RNA-seq-based genotyping to proceed by mapping reads directly to transcript sequences."
   ]
  },
  {
   "cell_type": "code",
   "execution_count": null,
   "metadata": {},
   "outputs": [
    {
     "name": "stdout",
     "output_type": "stream",
     "text": [
      "200-250:+\tRelative position: 30\n",
      "150-170:-, 220-250:-\tRelative position: 19\n",
      "150-170:-, 220-250:-, 300-350:-\tRelative position: 69\n"
     ]
    }
   ],
   "source": [
    "from biocantor.location.location_impl import SingleInterval, CompoundInterval, Strand\n",
    "from biocantor.parent import Parent\n",
    "from biocantor.gene.cds import CDSInterval, CDSFrame\n",
    "from biocantor.sequence import Sequence, Alphabet\n",
    "\n",
    "# Define a set of transcript annotations\n",
    "# Parents are optional when not needed to establish a hierarchy, \n",
    "# so we omit them here\n",
    "transcripts = [\n",
    "    SingleInterval(200, 250, Strand.PLUS),\n",
    "    SingleInterval(600, 800, Strand.PLUS),\n",
    "    CompoundInterval([150, 220], [170, 250], Strand.MINUS),\n",
    "    CompoundInterval([150, 220, 300], [170, 250, 350], Strand.MINUS),\n",
    "]\n",
    "\n",
    "# Define a SNP position\n",
    "snp = SingleInterval(230, 231, Strand.PLUS)\n",
    "\n",
    "# Identify transcripts overlapping the SNP\n",
    "# For overlapping transcripts, report the relative position of the SNP\n",
    "# along the spliced transcript\n",
    "for transcript in transcripts:\n",
    "    if snp.has_overlap(transcript, match_strand=False):\n",
    "        relative_pos = transcript.parent_to_relative_pos(snp.start)\n",
    "        print(\"{}\\tRelative position: {}\".format(transcript, relative_pos))"
   ]
  },
  {
   "cell_type": "markdown",
   "metadata": {},
   "source": [
    "## Memory-efficient database extraction of sequence and annotations\n",
    "\n",
    "This example simulates working with a genome database that contains chromosome sequences and annotations relative to those chromosomes. \n",
    "\n",
    "We demonstrate how a database client could retrieve sequence and annotation data without having to hold entire chromosomes in memory. \n",
    "\n",
    "BioCantor is used to map annotations back and forth between smaller chromosome slices and the full chromosome, so that a user can always see chromosome coordinates and correct transcript sequences, while the database client works with smaller slices under the hood."
   ]
  },
  {
   "cell_type": "code",
   "execution_count": null,
   "metadata": {},
   "outputs": [
    {
     "data": {
      "text/plain": [
       "<SingleInterval 15-22:+>"
      ]
     },
     "execution_count": null,
     "metadata": {},
     "output_type": "execute_result"
    }
   ],
   "source": [
    "# This string represents the sequence of chr1 living in a database.\n",
    "# The entire chromosome sequence is not loaded into memory in the code below;\n",
    "# it will only be used to validate this example code.\n",
    "chr1_seq_in_db = \"GCTAGGGTCGTGAAGTCGATTCCTTCGATGGTTAAAAATCAAAGGCTCAGAGTGCAGACTGGAGCGCCCA\"\n",
    "\n",
    "# A lightweight Parent object that will be reused to link various elements with chr1\n",
    "chr1_parent = Parent(id=\"chr1\")\n",
    "\n",
    "# Simulate querying the database for a small chunk of chr1\n",
    "# Link the chunk to chr1 by specifying its position in its parent attribute\n",
    "seq_chunk_from_db = Sequence(chr1_seq_in_db[30:60], Alphabet.NT_STRICT,\n",
    "                             parent=Parent(location=SingleInterval(30, 60, Strand.PLUS, \n",
    "                                                                   parent=chr1_parent)))\n",
    "\n",
    "# Simulate querying the database for the coordinates of a transcript relative to chr1\n",
    "transcript_rel_to_chr1 = SingleInterval(45, 52, Strand.PLUS, parent=chr1_parent)\n",
    "\n",
    "# Now, map the transcript to the sequence chunk instead of chr1\n",
    "transcript_location_rel_to_chunk = seq_chunk_from_db.\\\n",
    "                                   location_on_parent.\\\n",
    "                                   parent_to_relative_location(transcript_rel_to_chr1)\n",
    "\n",
    "# Check the location of the transcript relative to the sequence chunk\n",
    "transcript_location_rel_to_chunk"
   ]
  },
  {
   "cell_type": "code",
   "execution_count": null,
   "metadata": {},
   "outputs": [],
   "source": [
    "# Link the transcript to the sequence chunk as parent\n",
    "# This object holds a pointer to the sequence chunk and may be passed to downstream code\n",
    "transcript_rel_to_chunk = transcript_location_rel_to_chunk.\\\n",
    "                          reset_parent(Parent(sequence=seq_chunk_from_db))"
   ]
  },
  {
   "cell_type": "code",
   "execution_count": null,
   "metadata": {},
   "outputs": [
    {
     "data": {
      "text/plain": [
       "<Sequence=CTCAGAG;\n",
       "  Alphabet=NT_STRICT;\n",
       "  Length=7;\n",
       "  Parent=None;\n",
       "  Type=None>"
      ]
     },
     "execution_count": null,
     "metadata": {},
     "output_type": "execute_result"
    }
   ],
   "source": [
    "# Extract the transcript sequence without having chr1 in memory\n",
    "transcript_rel_to_chunk.extract_sequence()"
   ]
  },
  {
   "cell_type": "code",
   "execution_count": null,
   "metadata": {},
   "outputs": [
    {
     "data": {
      "text/plain": [
       "'CTCAGAG'"
      ]
     },
     "execution_count": null,
     "metadata": {},
     "output_type": "execute_result"
    }
   ],
   "source": [
    "# Check against the full chromosome sequence\n",
    "chr1_seq_in_db[45:52]"
   ]
  },
  {
   "cell_type": "markdown",
   "metadata": {},
   "source": [
    "## Working with a chain of parent relationships\n",
    "\n",
    "This example demonstrates a long chain of parent relationships.\n",
    "\n",
    "The hierarchy established here is:\n",
    "\n",
    "1. Chromosome\n",
    "2. Slice of chromosome\n",
    "3. Transcript\n",
    "4. CDS\n",
    "5. Exon\n",
    "\n",
    "In the example:\n",
    "\n",
    "- The chromosome slice is given an explicit location relative to the chromosome.\n",
    "- The transcript is given an explicit location relative to the chromosome slice.\n",
    "- The CDS is given an explicit location relative to the transcript.\n",
    "- The exon\"s place in the hierarchy is established implicitly by the code.\n",
    "\n",
    "From these, coordinates can be automatically converted up and down the hierarchy."
   ]
  },
  {
   "cell_type": "code",
   "execution_count": null,
   "metadata": {},
   "outputs": [
    {
     "data": {
      "text/plain": [
       "<SingleInterval <Parent: id=None, type=chromosome_slice, strand=-, location=<SingleInterval 5-9:->, sequence=<Sequence;\n",
       "  Alphabet=NT_STRICT;\n",
       "  Length=30;\n",
       "  Parent=<Parent: id=chr1, type=chromosome, strand=+, location=<SingleInterval 60-90:+>, sequence=None, parent=None>;\n",
       "  Type=chromosome_slice>, parent=<Parent: id=chr1, type=chromosome, strand=+, location=<SingleInterval 60-90:+>, sequence=None, parent=None>>:5-9:->"
      ]
     },
     "execution_count": null,
     "metadata": {},
     "output_type": "execute_result"
    }
   ],
   "source": [
    "# Chromosome slice sequence, maybe from a database\n",
    "# Has a Parent object representing chromosome 1, which does not hold sequence data\n",
    "chromosome_slice = Sequence(\"AAGGCTCACGGAGAGAAGAGATCTCTCGGG\",\n",
    "                            Alphabet.NT_STRICT,\n",
    "                            type=\"chromosome_slice\",\n",
    "                            parent=Parent(\n",
    "                                id=\"chr1\",  # Slice is part of chr1\n",
    "                                location=SingleInterval(60, 90, Strand.PLUS),  # Slice location chr1:60-90:+\n",
    "                                sequence_type=\"chromosome\"))\n",
    "\n",
    "# A spliced transcript with coordinates relative to the chromosome slice, maybe from the database\n",
    "transcript = CompoundInterval([5, 13], [9, 20], Strand.MINUS, parent=chromosome_slice)\n",
    "\n",
    "# An exon of the transcript\n",
    "exon1 = transcript.blocks[0]\n",
    "\n",
    "# Get coordinates of the exon relative to the chromosome slice\n",
    "# Two ways to do this.\n",
    "# First, pass the chromosome slice directly\n",
    "exon1_on_slice_direct = exon1.lift_over_to_sequence(chromosome_slice)\n",
    "exon1_on_slice_direct"
   ]
  },
  {
   "cell_type": "code",
   "execution_count": null,
   "metadata": {},
   "outputs": [
    {
     "data": {
      "text/plain": [
       "<SingleInterval <Parent: id=None, type=chromosome_slice, strand=-, location=<SingleInterval 5-9:->, sequence=<Sequence;\n",
       "  Alphabet=NT_STRICT;\n",
       "  Length=30;\n",
       "  Parent=<Parent: id=chr1, type=chromosome, strand=+, location=<SingleInterval 60-90:+>, sequence=None, parent=None>;\n",
       "  Type=chromosome_slice>, parent=<Parent: id=chr1, type=chromosome, strand=+, location=<SingleInterval 60-90:+>, sequence=None, parent=None>>:5-9:->"
      ]
     },
     "execution_count": null,
     "metadata": {},
     "output_type": "execute_result"
    }
   ],
   "source": [
    "# Second, pass the sequence type of the chromosome slice, useful for lifting up to an ancestor by \n",
    "# type without having to pass a sequence around, or if there is no sequence data\n",
    "exon1.lift_over_to_first_ancestor_of_type(\"chromosome_slice\")"
   ]
  },
  {
   "cell_type": "code",
   "execution_count": null,
   "metadata": {},
   "outputs": [
    {
     "data": {
      "text/plain": [
       "<SingleInterval <Parent: id=chr1, type=chromosome, strand=-, location=<SingleInterval 65-69:->, sequence=None, parent=None>:65-69:->"
      ]
     },
     "execution_count": null,
     "metadata": {},
     "output_type": "execute_result"
    }
   ],
   "source": [
    "# Get exon coordinates relative to chr1\n",
    "exon1.lift_over_to_first_ancestor_of_type(\"chromosome\")"
   ]
  },
  {
   "cell_type": "code",
   "execution_count": null,
   "metadata": {},
   "outputs": [
    {
     "data": {
      "text/plain": [
       "<SingleInterval 7-11:+>"
      ]
     },
     "execution_count": null,
     "metadata": {},
     "output_type": "execute_result"
    }
   ],
   "source": [
    "# Get exon coordinates relative to transcript\n",
    "# Accomplish by pushing slice-relative coordinates \"down\" through transcript\n",
    "transcript.parent_to_relative_location(exon1_on_slice_direct)"
   ]
  },
  {
   "cell_type": "code",
   "execution_count": null,
   "metadata": {},
   "outputs": [],
   "source": []
  }
 ],
 "metadata": {
  "language_info": {
   "codemirror_mode": {
    "name": "ipython",
    "version": 3
   },
   "file_extension": ".py",
   "mimetype": "text/x-python",
   "name": "python",
   "nbconvert_exporter": "python",
   "pygments_lexer": "ipython3",
   "version": "3.7.10"
  }
 },
 "nbformat": 4,
 "nbformat_minor": 4
}
